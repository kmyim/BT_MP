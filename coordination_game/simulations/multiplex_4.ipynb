{
 "cells": [
  {
   "cell_type": "code",
   "execution_count": 6,
   "metadata": {},
   "outputs": [],
   "source": [
    "%matplotlib inline\n",
    "\n",
    "import networkx as nx\n",
    "import numpy as np\n",
    "import copy\n",
    "import matplotlib\n",
    "import matplotlib.pyplot as plt\n",
    "\n",
    "from multiprocessing import Pool"
   ]
  },
  {
   "cell_type": "code",
   "execution_count": 10,
   "metadata": {},
   "outputs": [],
   "source": [
    "def simulate(G, H, trialtime, thresh, infected):    \n",
    "    results = np.zeros([trialtime])\n",
    "    #redun_connections= np.ones([trialtime])\n",
    "    #timetaken = np.zeros([trialtime])\n",
    "    \n",
    "    for t in range(trialtime):\n",
    "        aware = set([])\n",
    "        results[t] = len(infected)\n",
    "        for node in infected:\n",
    "            aware.update({n for n in H.neighbors(node)})\n",
    "        temp = copy.deepcopy(aware)\n",
    "        temp_infect = copy.deepcopy(infected)\n",
    "\n",
    "        for node in temp:\n",
    "            neighset = {n for n in G.neighbors(node)}\n",
    "\n",
    "            if len(temp_infect.intersection(neighset)) >= thresh[node]*len(neighset) :\n",
    "                infected.update({node})\n",
    "            else: \n",
    "                infected = infected-{node}\n",
    "    return results\n",
    "    "
   ]
  },
  {
   "cell_type": "code",
   "execution_count": 1,
   "metadata": {},
   "outputs": [],
   "source": [
    "def comm_network(G, p_remove):\n",
    "    H = G.copy()\n",
    "\n",
    "    for e in G.edges():\n",
    "        test = np.random.uniform(low=0.0, high=1.0, size=None)\n",
    "        if test < p_remove:\n",
    "            H.remove_edge(e[0], e[1])\n",
    "            \n",
    "    return H"
   ]
  },
  {
   "cell_type": "code",
   "execution_count": 8,
   "metadata": {},
   "outputs": [],
   "source": [
    "def powerlaw(D, lamb, p0):\n",
    "    x = np.arange(1,D)\n",
    "    x = np.asarray(x, dtype=float)\n",
    "    x = x**(-lamb)\n",
    "    x = x/x.sum(axis=0)*(1-p0)\n",
    "    x = np.insert(x, 0, p0, axis=0)\n",
    "    return x"
   ]
  },
  {
   "cell_type": "code",
   "execution_count": 4,
   "metadata": {},
   "outputs": [],
   "source": [
    "def go(mu, max_p_remove):\n",
    "    trialtime = 15\n",
    "\n",
    "    sigma = 0.2\n",
    "    thresh = np.random.normal(mu, sigma, len(G))\n",
    "\n",
    "    finesse = 50\n",
    "    results_finegrain = np.zeros([finesse,trialtime])\n",
    "    trialnumber = 100\n",
    "    \n",
    "    for T in range(trialnumber):\n",
    "        infected = set((np.where(thresh <= 0)[0]))\n",
    "\n",
    "        for i in range(finesse):\n",
    "\n",
    "            p_remove = int(float((i)/(finesse))*max_p_remove)\n",
    "\n",
    "            H = comm_network(G, p_remove)\n",
    "            R = simulate(G, H, trialtime, thresh, copy.deepcopy(infected))\n",
    "            results_finegrain[i] = R + results_finegrain[i]\n",
    "           \n",
    "    return results_finegrain/trialnumber/len(G)\n"
   ]
  },
  {
   "cell_type": "code",
   "execution_count": 3,
   "metadata": {},
   "outputs": [],
   "source": [
    "def Go(mu):\n",
    "    return go(mu, 0.5)"
   ]
  },
  {
   "cell_type": "code",
   "execution_count": 12,
   "metadata": {},
   "outputs": [
    {
     "data": {
      "text/plain": [
       "<matplotlib.legend.Legend at 0x7ff8f2567ba8>"
      ]
     },
     "execution_count": 12,
     "metadata": {},
     "output_type": "execute_result"
    },
    {
     "data": {
      "image/png": "[encoded data removed]",
      "text/plain": [
       "<matplotlib.figure.Figure at 0x7ff8f25677f0>"
      ]
     },
     "metadata": {},
     "output_type": "display_data"
    }
   ],
   "source": [
    "for a in range(8):\n",
    "    plt.plot(((results[a]).T)[14], label='{}'.format(a))\n",
    "plt.legend(loc='upper right')"
   ]
  },
  {
   "cell_type": "code",
   "execution_count": 16,
   "metadata": {},
   "outputs": [
    {
     "data": {
      "text/plain": [
       "[<matplotlib.lines.Line2D at 0x7ff8ff161f60>]"
      ]
     },
     "execution_count": 16,
     "metadata": {},
     "output_type": "execute_result"
    },
    {
     "data": {
      "image/png": "[encoded data removed]",
      "text/plain": [
       "<matplotlib.figure.Figure at 0x7ff8ff19dfd0>"
      ]
     },
     "metadata": {},
     "output_type": "display_data"
    }
   ],
   "source": [
    "plt.plot(results[2][0])"
   ]
  },
  {
   "cell_type": "code",
   "execution_count": 11,
   "metadata": {},
   "outputs": [],
   "source": [
    "N = 100\n",
    "D = N-1 #maximum degree\n",
    "lamb = 2.5\n",
    "\n",
    "\n",
    "S = 1\n",
    "while S % 2 != 0:\n",
    "    degree_seq = np.random.choice(np.arange(D), N, replace=True, p=powerlaw(D,lamb, 0.0))\n",
    "    S = np.sum(degree_seq)\n",
    "\n",
    "Gfull=nx.configuration_model(list(degree_seq))\n",
    "G=nx.Graph(Gfull)\n",
    "G.remove_edges_from(G.selfloop_edges())\n",
    "\n",
    "S = np.sum(degree_seq)\n",
    "def Go(mu):\n",
    "    return go(mu, 1)\n",
    "\n",
    "pool= Pool()\n",
    "results = pool.map(Go, list(0.2 + np.arange(8)/60))\n",
    "np.save('remove_edges/power_2p5_N_100_trials_100.npy', results)"
   ]
  },
  {
   "cell_type": "code",
   "execution_count": 78,
   "metadata": {},
   "outputs": [
    {
     "data": {
      "text/plain": [
       "array([ 0.2       ,  0.21666667,  0.23333333,  0.25      ,  0.26666667,\n",
       "        0.28333333,  0.3       ,  0.31666667])"
      ]
     },
     "execution_count": 78,
     "metadata": {},
     "output_type": "execute_result"
    }
   ],
   "source": [
    "0.2 + np.arange(8)/60"
   ]
  },
  {
   "cell_type": "code",
   "execution_count": null,
   "metadata": {},
   "outputs": [],
   "source": [
    "N = 100\n",
    "D = N-1 #maximum degree\n",
    "lamb = 2.9\n",
    "\n",
    "\n",
    "S = 1\n",
    "while S % 2 != 0:\n",
    "    degree_seq = np.random.choice(np.arange(D), N, replace=True, p=powerlaw(D,lamb, 0.0))\n",
    "    S = np.sum(degree_seq)\n",
    "\n",
    "Gfull=nx.configuration_model(list(degree_seq))\n",
    "G=nx.Graph(Gfull)\n",
    "G.remove_edges_from(G.selfloop_edges())\n",
    "\n",
    "S = np.sum(degree_seq)\n",
    "def Go(trialnumber):\n",
    "    return go(trialnumber, int(S*1.5))\n",
    "\n",
    "pool= Pool()\n",
    "results = pool.map(Go, [250, 250, 250, 250])\n",
    "infectionsize = np.asarray(sum(results), dtype=float)/4\n",
    "#np.save('power_2p9_N_100_trials_1000.npy', infectionsize)"
   ]
  },
  {
   "cell_type": "code",
   "execution_count": null,
   "metadata": {},
   "outputs": [],
   "source": [
    "N = 100\n",
    "D = N-1 #maximum degree\n",
    "lamb = 2.7\n",
    "\n",
    "\n",
    "S = 1\n",
    "while S % 2 != 0:\n",
    "    degree_seq = np.random.choice(np.arange(D), N, replace=True, p=powerlaw(D,lamb, 0.0))\n",
    "    S = np.sum(degree_seq)\n",
    "\n",
    "Gfull=nx.configuration_model(list(degree_seq))\n",
    "G=nx.Graph(Gfull)\n",
    "G.remove_edges_from(G.selfloop_edges())\n",
    "\n",
    "S = np.sum(degree_seq)\n",
    "def Go(trialnumber):\n",
    "    return go(trialnumber, int(S*1.5))\n",
    "\n",
    "pool= Pool()\n",
    "results = pool.map(Go, [250, 250, 250, 250])\n",
    "infectionsize = np.asarray(sum(results), dtype=float)/4\n",
    "np.save('power_2p7_N_100_trials_1000.npy', infectionsize)"
   ]
  },
  {
   "cell_type": "code",
   "execution_count": null,
   "metadata": {},
   "outputs": [],
   "source": [
    "N = 100\n",
    "D = N-1 #maximum degree\n",
    "lamb = 2.3\n",
    "\n",
    "\n",
    "S = 1\n",
    "while S % 2 != 0:\n",
    "    degree_seq = np.random.choice(np.arange(D), N, replace=True, p=powerlaw(D,lamb, 0.0))\n",
    "    S = np.sum(degree_seq)\n",
    "\n",
    "Gfull=nx.configuration_model(list(degree_seq))\n",
    "G=nx.Graph(Gfull)\n",
    "G.remove_edges_from(G.selfloop_edges())\n",
    "\n",
    "S = np.sum(degree_seq)\n",
    "def Go(trialnumber):\n",
    "    return go(trialnumber, int(S*1.5))\n",
    "\n",
    "pool= Pool()\n",
    "results = pool.map(Go, [250, 250, 250, 250])\n",
    "infectionsize = np.asarray(sum(results), dtype=float)/4\n",
    "#np.save('power_2p3_N_100_trials_1000.npy', infectionsize)"
   ]
  },
  {
   "cell_type": "code",
   "execution_count": null,
   "metadata": {},
   "outputs": [],
   "source": [
    "N = 100\n",
    "D = N-1 #maximum degree\n",
    "lamb = 2.1\n",
    "\n",
    "\n",
    "S = 1\n",
    "while S % 2 != 0:\n",
    "    degree_seq = np.random.choice(np.arange(D), N, replace=True, p=powerlaw(D,lamb, 0.0))\n",
    "    S = np.sum(degree_seq)\n",
    "\n",
    "Gfull=nx.configuration_model(list(degree_seq))\n",
    "G=nx.Graph(Gfull)\n",
    "G.remove_edges_from(G.selfloop_edges())\n",
    "\n",
    "S = np.sum(degree_seq)\n",
    "def Go(trialnumber):\n",
    "    return go(trialnumber, int(S*1.5))\n",
    "\n",
    "pool= Pool()\n",
    "results = pool.map(Go, [250, 250, 250, 250])\n",
    "infectionsize = np.asarray(sum(results), dtype=float)/4\n",
    "#np.save('power_2p1_N_100_trials_1000.npy', infectionsize)"
   ]
  },
  {
   "cell_type": "code",
   "execution_count": null,
   "metadata": {},
   "outputs": [],
   "source": [
    "s = np.random.normal(0.3, 0.2, 1000)"
   ]
  },
  {
   "cell_type": "code",
   "execution_count": null,
   "metadata": {},
   "outputs": [],
   "source": [
    "s"
   ]
  },
  {
   "cell_type": "code",
   "execution_count": null,
   "metadata": {},
   "outputs": [],
   "source": []
  }
 ],
 "metadata": {
  "kernelspec": {
   "display_name": "Python 3",
   "language": "python",
   "name": "python3"
  },
  "language_info": {
   "codemirror_mode": {
    "name": "ipython",
    "version": 3
   },
   "file_extension": ".py",
   "mimetype": "text/x-python",
   "name": "python",
   "nbconvert_exporter": "python",
   "pygments_lexer": "ipython3",
   "version": "3.5.2"
  }
 },
 "nbformat": 4,
 "nbformat_minor": 2
}
