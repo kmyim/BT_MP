{
 "cells": [
  {
   "cell_type": "code",
   "execution_count": 2,
   "metadata": {},
   "outputs": [],
   "source": [
    "import numpy as np\n",
    "import matplotlib.pyplot as plt\n",
    "import networkx as nx\n",
    "\n",
    "from multiprocessing import Pool"
   ]
  },
  {
   "cell_type": "code",
   "execution_count": 2,
   "metadata": {},
   "outputs": [],
   "source": [
    "def simulate(G, H, trialtime, threshG, N):    \n",
    "    results = np.zeros([trialtime])\n",
    "    #redun_connections= np.ones([trialtime])\n",
    "    #timetaken = np.zeros([trialtime])\n",
    "    nodeset = set(range(N))\n",
    "    infected = set()\n",
    "    for t in range(trialtime):\n",
    "        results[t] = len(infected)\n",
    "        if t> trialtime/2 :\n",
    "            if results[t] == results[t-1]:\n",
    "                results[range(t+1, trialtime)] = results[t]\n",
    "                break\n",
    "        \n",
    "        temphold = set()\n",
    "        \n",
    "        for node in nodeset-infected:\n",
    "            neighG = {n for n in G.neighbors(node)}\n",
    "            neighH = {n for n in H.neighbors(node)}\n",
    "\n",
    "            if threshG[node] < 0 or len(infected.intersection(neighG)) > threshG[node]*len(neighG) and len(infected.intersection(neighH)) > 0:\n",
    "                temphold.update({node})\n",
    "        \n",
    "        infected.update(temphold)\n",
    "    return results\n",
    "    "
   ]
  },
  {
   "cell_type": "code",
   "execution_count": 5,
   "metadata": {},
   "outputs": [],
   "source": [
    "def comm_network(G, n_swap, N):\n",
    "    H = G.copy()\n",
    "    H = nx.double_edge_swap(H, n_swap, max_tries=n_swap*N);\n",
    "    return H"
   ]
  },
  {
   "cell_type": "code",
   "execution_count": 1,
   "metadata": {},
   "outputs": [],
   "source": [
    "def finalfraction(G, H, trialtime, threshG, N):    \n",
    "    nodeset = set(range(N))\n",
    "    infected = set()\n",
    "    for t in range(trialtime):\n",
    "        \n",
    "        \n",
    "        temphold = set()\n",
    "        \n",
    "        for node in nodeset-infected:\n",
    "            neighG = {n for n in G.neighbors(node)}\n",
    "            neighH = {n for n in H.neighbors(node)}\n",
    "\n",
    "            if threshG[node] < 0 or (len(infected.intersection(neighG)) > threshG[node]*len(neighG) and len(infected.intersection(neighH)) > 0):\n",
    "                temphold.update({node})\n",
    "    \n",
    "        if len(temphold) == 0:\n",
    "            break\n",
    "        else: \n",
    "            infected.update(temphold)\n",
    "    return len(infected)\n",
    "    "
   ]
  },
  {
   "cell_type": "code",
   "execution_count": 5,
   "metadata": {},
   "outputs": [],
   "source": [
    "#This is maximum edge swap, uncorrelated degrees\n",
    "def go(z):\n",
    "    finesse=26\n",
    "    N = 10000\n",
    "    p = z/N\n",
    "    trialnumber = 5\n",
    "    trialtime = 25\n",
    "    sigma = 0.2\n",
    "    results = np.zeros([finesse])\n",
    "    for T in range(trialnumber):\n",
    "        G = nx.fast_gnp_random_graph(N, p, seed=None, directed=False)\n",
    "        H = nx.fast_gnp_random_graph(N, p, seed=None, directed=False)       \n",
    "        for n in range(finesse):\n",
    "            threshG = np.random.normal(n*0.5/finesse, sigma, N)\n",
    "            results[n] = results[n] + finalfraction(G, H, trialtime, threshG, N)\n",
    "    return results/N/trialnumber\n"
   ]
  },
  {
   "cell_type": "code",
   "execution_count": 6,
   "metadata": {},
   "outputs": [],
   "source": [
    "#This is maximum edge swap, uncorrelated degrees\n",
    "def go_edge(z):\n",
    "    finesse=26\n",
    "    N = 1000\n",
    "    p = z/N\n",
    "    trialnumber = 10\n",
    "    trialtime = 25\n",
    "    sigma = 0.2\n",
    "\n",
    "    G = nx.fast_gnp_random_graph(N, p, seed=None, directed=False)\n",
    "    H = comm_network(G, G.number_of_edges()+N, N)\n",
    "    results = np.zeros([finesse])\n",
    "    \n",
    "    for T in range(trialnumber):     \n",
    "        for n in range(finesse):\n",
    "            threshG = np.random.normal(n*0.5/finesse, sigma, N)\n",
    "            results[n] = results[n] + finalfraction(G, H, trialtime, threshG, N)\n",
    "    return results/N/trialnumber\n"
   ]
  },
  {
   "cell_type": "code",
   "execution_count": 11,
   "metadata": {},
   "outputs": [],
   "source": [
    "infectionsize_edge = np.zeros([20, 26])\n",
    "for n in range(1,21):\n",
    "    z = n/2\n",
    "    pool= Pool(3)\n",
    "    results_edge= pool.map(go_edge, [z]*3)\n",
    "    infectionsize_edge[n-1] = np.asarray(sum(results_edge), dtype=float)/3\n",
    "filename = 'ER_hetero_dge.npy'\n",
    "np.save(filename, infectionsize_edge)"
   ]
  },
  {
   "cell_type": "code",
   "execution_count": 9,
   "metadata": {},
   "outputs": [],
   "source": [
    "trial_results = go_edge(10)\n"
   ]
  },
  {
   "cell_type": "code",
   "execution_count": 10,
   "metadata": {},
   "outputs": [
    {
     "data": {
      "text/plain": [
       "[<matplotlib.lines.Line2D at 0x7f0663785048>]"
      ]
     },
     "execution_count": 10,
     "metadata": {},
     "output_type": "execute_result"
    },
    {
     "data": {
      "image/png": "[encoded data removed]",
      "text/plain": [
       "<matplotlib.figure.Figure at 0x7f066392c470>"
      ]
     },
     "metadata": {},
     "output_type": "display_data"
    }
   ],
   "source": [
    "plt.plot(np.arange(26)*0.5/25, trial_results)"
   ]
  },
  {
   "cell_type": "code",
   "execution_count": 12,
   "metadata": {},
   "outputs": [
    {
     "data": {
      "text/plain": [
       "array([ 0.,  0.,  0.,  0.,  0.,  0.,  0.,  0.,  0.,  0.,  0.,  0.,  0.,\n",
       "        0.,  0.,  0.,  0.,  0.,  0.,  0.,  0.])"
      ]
     },
     "execution_count": 12,
     "metadata": {},
     "output_type": "execute_result"
    }
   ],
   "source": [
    "trial_results"
   ]
  },
  {
   "cell_type": "code",
   "execution_count": 21,
   "metadata": {},
   "outputs": [
    {
     "ename": "NameError",
     "evalue": "name 'infectionsize' is not defined",
     "output_type": "error",
     "traceback": [
      "\u001b[0;31m---------------------------------------------------------------------------\u001b[0m",
      "\u001b[0;31mNameError\u001b[0m                                 Traceback (most recent call last)",
      "\u001b[0;32m<ipython-input-21-ff23d37c6af7>\u001b[0m in \u001b[0;36m<module>\u001b[0;34m()\u001b[0m\n\u001b[1;32m      1\u001b[0m \u001b[0;32mfor\u001b[0m \u001b[0mr\u001b[0m \u001b[0;32min\u001b[0m \u001b[0mrange\u001b[0m\u001b[0;34m(\u001b[0m\u001b[0;36m21\u001b[0m\u001b[0;34m)\u001b[0m\u001b[0;34m:\u001b[0m\u001b[0;34m\u001b[0m\u001b[0m\n\u001b[0;32m----> 2\u001b[0;31m     \u001b[0mplt\u001b[0m\u001b[0;34m.\u001b[0m\u001b[0mplot\u001b[0m\u001b[0;34m(\u001b[0m\u001b[0mnp\u001b[0m\u001b[0;34m.\u001b[0m\u001b[0marange\u001b[0m\u001b[0;34m(\u001b[0m\u001b[0;36m21\u001b[0m\u001b[0;34m)\u001b[0m\u001b[0;34m*\u001b[0m\u001b[0;36m0.4\u001b[0m\u001b[0;34m/\u001b[0m\u001b[0;36m20\u001b[0m\u001b[0;34m,\u001b[0m \u001b[0minfectionsize\u001b[0m\u001b[0;34m[\u001b[0m\u001b[0mr\u001b[0m\u001b[0;34m]\u001b[0m\u001b[0;34m)\u001b[0m\u001b[0;34m\u001b[0m\u001b[0m\n\u001b[0m",
      "\u001b[0;31mNameError\u001b[0m: name 'infectionsize' is not defined"
     ]
    }
   ],
   "source": [
    "for r in range(21):\n",
    "    plt.plot(np.arange(21)*0.4/20, infectionsize[r])\n"
   ]
  },
  {
   "cell_type": "code",
   "execution_count": 21,
   "metadata": {},
   "outputs": [
    {
     "data": {
      "text/plain": [
       "[<matplotlib.lines.Line2D at 0x7f9451501400>]"
      ]
     },
     "execution_count": 21,
     "metadata": {},
     "output_type": "execute_result"
    },
    {
     "data": {
      "image/png": "[encoded data removed]",
      "text/plain": [
       "<matplotlib.figure.Figure at 0x7f9451599710>"
      ]
     },
     "metadata": {},
     "output_type": "display_data"
    }
   ],
   "source": [
    "plt.plot(np.arange(21)*0.4/20, infectionsize[4]*10)"
   ]
  },
  {
   "cell_type": "code",
   "execution_count": 20,
   "metadata": {},
   "outputs": [
    {
     "data": {
      "text/plain": [
       "[<matplotlib.lines.Line2D at 0x7faab9ebea58>]"
      ]
     },
     "execution_count": 20,
     "metadata": {},
     "output_type": "execute_result"
    },
    {
     "data": {
      "image/png": "[encoded data removed]",
      "text/plain": [
       "<matplotlib.figure.Figure at 0x7faab9ee2c50>"
      ]
     },
     "metadata": {},
     "output_type": "display_data"
    }
   ],
   "source": [
    "plt.plot(np.arange(20)*0.4/20, infectionsize)\n"
   ]
  },
  {
   "cell_type": "code",
   "execution_count": 22,
   "metadata": {},
   "outputs": [
    {
     "data": {
      "text/plain": [
       "array([  0. ,   0.5,   1. ,   1.5,   2. ,   2.5,   3. ,   3.5,   4. ,\n",
       "         4.5,   5. ,   5.5,   6. ,   6.5,   7. ,   7.5,   8. ,   8.5,\n",
       "         9. ,   9.5,  10. ])"
      ]
     },
     "execution_count": 22,
     "metadata": {},
     "output_type": "execute_result"
    }
   ],
   "source": [
    "np.linspace(0, 10, 21)"
   ]
  },
  {
   "cell_type": "code",
   "execution_count": 12,
   "metadata": {},
   "outputs": [
    {
     "data": {
      "image/png": "[encoded data removed]",
      "text/plain": [
       "<matplotlib.figure.Figure at 0x7f066379ff60>"
      ]
     },
     "metadata": {},
     "output_type": "display_data"
    }
   ],
   "source": [
    "fig, ax = plt.subplots(1,1)\n",
    "ax.imshow(((infectionsize_edge)[::-1])*10, interpolation='nearest', extent=[0,0.5, 0,10] )\n",
    "ax.set_aspect(1/25)\n",
    "plt.show()"
   ]
  },
  {
   "cell_type": "code",
   "execution_count": 3,
   "metadata": {},
   "outputs": [
    {
     "ename": "NameError",
     "evalue": "name 'infectionsize_edge' is not defined",
     "output_type": "error",
     "traceback": [
      "\u001b[0;31m---------------------------------------------------------------------------\u001b[0m",
      "\u001b[0;31mNameError\u001b[0m                                 Traceback (most recent call last)",
      "\u001b[0;32m<ipython-input-3-d649bd6ab9b3>\u001b[0m in \u001b[0;36m<module>\u001b[0;34m()\u001b[0m\n\u001b[1;32m      1\u001b[0m \u001b[0mfig\u001b[0m\u001b[0;34m,\u001b[0m \u001b[0max\u001b[0m \u001b[0;34m=\u001b[0m \u001b[0mplt\u001b[0m\u001b[0;34m.\u001b[0m\u001b[0msubplots\u001b[0m\u001b[0;34m(\u001b[0m\u001b[0;36m1\u001b[0m\u001b[0;34m,\u001b[0m\u001b[0;36m1\u001b[0m\u001b[0;34m)\u001b[0m\u001b[0;34m\u001b[0m\u001b[0m\n\u001b[0;32m----> 2\u001b[0;31m \u001b[0mim\u001b[0m \u001b[0;34m=\u001b[0m \u001b[0max\u001b[0m\u001b[0;34m.\u001b[0m\u001b[0mimshow\u001b[0m\u001b[0;34m(\u001b[0m\u001b[0;34m(\u001b[0m\u001b[0;34m(\u001b[0m\u001b[0minfectionsize_edge\u001b[0m\u001b[0;34m)\u001b[0m\u001b[0;34m[\u001b[0m\u001b[0;34m:\u001b[0m\u001b[0;34m:\u001b[0m\u001b[0;34m-\u001b[0m\u001b[0;36m1\u001b[0m\u001b[0;34m]\u001b[0m\u001b[0;34m)\u001b[0m\u001b[0;34m,\u001b[0m \u001b[0minterpolation\u001b[0m\u001b[0;34m=\u001b[0m\u001b[0;34m'nearest'\u001b[0m\u001b[0;34m,\u001b[0m \u001b[0mextent\u001b[0m\u001b[0;34m=\u001b[0m\u001b[0;34m[\u001b[0m\u001b[0;36m0\u001b[0m\u001b[0;34m,\u001b[0m\u001b[0;36m0.5\u001b[0m\u001b[0;34m,\u001b[0m \u001b[0;36m0.5\u001b[0m\u001b[0;34m,\u001b[0m\u001b[0;36m10\u001b[0m\u001b[0;34m]\u001b[0m\u001b[0;34m,\u001b[0m \u001b[0mvmin\u001b[0m\u001b[0;34m=\u001b[0m\u001b[0;36m0\u001b[0m\u001b[0;34m,\u001b[0m \u001b[0mvmax\u001b[0m\u001b[0;34m=\u001b[0m\u001b[0;36m1\u001b[0m\u001b[0;34m)\u001b[0m\u001b[0;34m\u001b[0m\u001b[0m\n\u001b[0m\u001b[1;32m      3\u001b[0m \u001b[0mplt\u001b[0m\u001b[0;34m.\u001b[0m\u001b[0mcolorbar\u001b[0m\u001b[0;34m(\u001b[0m\u001b[0mim\u001b[0m\u001b[0;34m)\u001b[0m\u001b[0;34m\u001b[0m\u001b[0m\n\u001b[1;32m      4\u001b[0m \u001b[0max\u001b[0m\u001b[0;34m.\u001b[0m\u001b[0mset_aspect\u001b[0m\u001b[0;34m(\u001b[0m\u001b[0;36m1\u001b[0m\u001b[0;34m/\u001b[0m\u001b[0;36m20\u001b[0m\u001b[0;34m)\u001b[0m\u001b[0;34m\u001b[0m\u001b[0m\n\u001b[1;32m      5\u001b[0m \u001b[0mplt\u001b[0m\u001b[0;34m.\u001b[0m\u001b[0mtitle\u001b[0m\u001b[0;34m(\u001b[0m\u001b[0;34m'contact social layer edge swap'\u001b[0m\u001b[0;34m)\u001b[0m\u001b[0;34m\u001b[0m\u001b[0m\n",
      "\u001b[0;31mNameError\u001b[0m: name 'infectionsize_edge' is not defined"
     ]
    },
    {
     "data": {
      "image/png": "[encoded data removed]",
      "text/plain": [
       "<matplotlib.figure.Figure at 0x7f87f250fdd8>"
      ]
     },
     "metadata": {},
     "output_type": "display_data"
    }
   ],
   "source": [
    "fig, ax = plt.subplots(1,1)\n",
    "im = ax.imshow(((infectionsize_edge)[::-1]), interpolation='nearest', extent=[0,0.5, 0.5,10], vmin=0, vmax=1)\n",
    "plt.colorbar(im)\n",
    "ax.set_aspect(1/20)\n",
    "plt.title('contact social layer edge swap')\n",
    "plt.xlabel('r')\n",
    "plt.ylabel('z')\n",
    "plt.show()\n",
    "#fig.savefig('/home/user/Desktop/MP_doc_templates/figures/hetero_edge_swap_ER.eps')"
   ]
  },
  {
   "cell_type": "code",
   "execution_count": 1,
   "metadata": {},
   "outputs": [
    {
     "ename": "NameError",
     "evalue": "name 'infectionsize' is not defined",
     "output_type": "error",
     "traceback": [
      "\u001b[0;31m---------------------------------------------------------------------------\u001b[0m",
      "\u001b[0;31mNameError\u001b[0m                                 Traceback (most recent call last)",
      "\u001b[0;32m<ipython-input-1-1de0f7bc84e3>\u001b[0m in \u001b[0;36m<module>\u001b[0;34m()\u001b[0m\n\u001b[0;32m----> 1\u001b[0;31m \u001b[0minfectionsize\u001b[0m\u001b[0;34m\u001b[0m\u001b[0m\n\u001b[0m",
      "\u001b[0;31mNameError\u001b[0m: name 'infectionsize' is not defined"
     ]
    }
   ],
   "source": [
    "infectionsize"
   ]
  },
  {
   "cell_type": "code",
   "execution_count": 31,
   "metadata": {},
   "outputs": [],
   "source": [
    "infectionsize_node.astype('float32').tofile('hetero_node_swap_sim.dat')"
   ]
  },
  {
   "cell_type": "code",
   "execution_count": 32,
   "metadata": {},
   "outputs": [],
   "source": [
    "np.save('hetero_node_swap_sim.npy', infectionsize_node)"
   ]
  },
  {
   "cell_type": "code",
   "execution_count": 33,
   "metadata": {},
   "outputs": [
    {
     "data": {
      "text/plain": [
       "array([[ 0.4997    ,  0.46428   ,  0.42118   ,  0.38558   ,  0.35164   ,\n",
       "         0.3143    ,  0.28286   ,  0.24956   ,  0.22136   ,  0.19092   ,\n",
       "         0.16556   ,  0.14506   ,  0.12476   ,  0.10384   ,  0.08738   ,\n",
       "         0.07194   ,  0.06182   ,  0.05102   ,  0.04228   ,  0.03344   ,\n",
       "         0.0282    ,  0.02202   ,  0.01674   ,  0.01306   ,  0.0108    ,\n",
       "         0.00764   ],\n",
       "       [ 0.52650667,  0.48880667,  0.44358667,  0.40603333,  0.36954667,\n",
       "         0.32968667,  0.29571333,  0.26009333,  0.23011333,  0.19779333,\n",
       "         0.17119333,  0.1492    ,  0.12801333,  0.10602   ,  0.0891    ,\n",
       "         0.07299333,  0.06263333,  0.0516    ,  0.04267333,  0.0337    ,\n",
       "         0.02832   ,  0.02208667,  0.01678   ,  0.0131    ,  0.01083333,\n",
       "         0.00764667],\n",
       "       [ 0.60032667,  0.5599    ,  0.50914667,  0.46818667,  0.42606   ,\n",
       "         0.37944667,  0.3381    ,  0.29638   ,  0.25786   ,  0.21886   ,\n",
       "         0.18691333,  0.16170667,  0.13721333,  0.11247333,  0.09335333,\n",
       "         0.07596667,  0.06477333,  0.05318   ,  0.04343333,  0.03428   ,\n",
       "         0.02879333,  0.02243333,  0.01688   ,  0.0132    ,  0.01086   ,\n",
       "         0.00764667],\n",
       "       [ 0.71289333,  0.68026667,  0.63649333,  0.59251333,  0.5472    ,\n",
       "         0.4888    ,  0.43870667,  0.37464667,  0.3227    ,  0.26676667,\n",
       "         0.22054   ,  0.18685333,  0.15579333,  0.12432   ,  0.10102   ,\n",
       "         0.08036667,  0.06806667,  0.05522667,  0.04504667,  0.03519333,\n",
       "         0.02922667,  0.02261333,  0.01711333,  0.01331333,  0.01097333,\n",
       "         0.00768667],\n",
       "       [ 0.82263333,  0.80251333,  0.77766667,  0.75161333,  0.7217    ,\n",
       "         0.67949333,  0.63278667,  0.57406   ,  0.50132   ,  0.40304   ,\n",
       "         0.30915333,  0.24006   ,  0.18926   ,  0.14224667,  0.11211333,\n",
       "         0.08721333,  0.07291333,  0.0572    ,  0.0466    ,  0.03613333,\n",
       "         0.02994   ,  0.02287333,  0.01724667,  0.0133    ,  0.01094   ,\n",
       "         0.00775333],\n",
       "       [ 0.89845333,  0.88951333,  0.87446   ,  0.86202   ,  0.85062   ,\n",
       "         0.83313333,  0.81427333,  0.79201333,  0.76579333,  0.72724667,\n",
       "         0.66623333,  0.53468   ,  0.28957333,  0.17778667,  0.12848   ,\n",
       "         0.09485333,  0.07698667,  0.06083333,  0.04846667,  0.03668667,\n",
       "         0.03032667,  0.02317333,  0.01732   ,  0.01338   ,  0.01104   ,\n",
       "         0.00776   ],\n",
       "       [ 0.94197333,  0.93621333,  0.92900667,  0.92315333,  0.91649333,\n",
       "         0.90882667,  0.90281333,  0.89452   ,  0.88364   ,  0.87265333,\n",
       "         0.86188   ,  0.84196   ,  0.81768667,  0.38951333,  0.16208667,\n",
       "         0.10695333,  0.0837    ,  0.06402667,  0.04942667,  0.03780667,\n",
       "         0.03058   ,  0.02341333,  0.01757333,  0.01343333,  0.01101333,\n",
       "         0.00776667],\n",
       "       [ 0.96574667,  0.96277333,  0.95873333,  0.95622667,  0.95304   ,\n",
       "         0.94961333,  0.94661333,  0.9425    ,  0.93816667,  0.93410667,\n",
       "         0.92888   ,  0.9245    ,  0.91824667,  0.90750667,  0.48268   ,\n",
       "         0.1257    ,  0.091     ,  0.06579333,  0.05164   ,  0.03844667,\n",
       "         0.03125333,  0.02366667,  0.0176    ,  0.01350667,  0.01108   ,\n",
       "         0.00779333],\n",
       "       [ 0.98031333,  0.97822667,  0.97663333,  0.97434   ,  0.97274667,\n",
       "         0.97100667,  0.96968   ,  0.96794   ,  0.96569333,  0.96336   ,\n",
       "         0.96246   ,  0.95994   ,  0.95682   ,  0.95385333,  0.95028   ,\n",
       "         0.27136667,  0.09807333,  0.07012   ,  0.05224   ,  0.03906667,\n",
       "         0.03154667,  0.0235    ,  0.01773333,  0.01357333,  0.01113333,\n",
       "         0.00782   ],\n",
       "       [ 0.98779333,  0.9876    ,  0.98604   ,  0.98566   ,  0.98458667,\n",
       "         0.98371333,  0.98292667,  0.98184   ,  0.98037333,  0.97948667,\n",
       "         0.97835333,  0.97739333,  0.97616667,  0.97464   ,  0.97259333,\n",
       "         0.70954667,  0.11638   ,  0.07430667,  0.0541    ,  0.03954   ,\n",
       "         0.03195333,  0.02378   ,  0.01765333,  0.01358667,  0.01110667,\n",
       "         0.00777333],\n",
       "       [ 0.99296667,  0.99230667,  0.99181333,  0.9912    ,  0.99086   ,\n",
       "         0.98977333,  0.98982667,  0.98914667,  0.98838667,  0.98787333,\n",
       "         0.98774667,  0.98688   ,  0.98642667,  0.98555333,  0.98481333,\n",
       "         0.98284   ,  0.26052   ,  0.07808   ,  0.05575333,  0.04035333,\n",
       "         0.03206   ,  0.02397333,  0.0178    ,  0.01366   ,  0.01114667,\n",
       "         0.00778   ],\n",
       "       [ 0.99635333,  0.99575333,  0.9953    ,  0.99502   ,  0.99466   ,\n",
       "         0.99447333,  0.99411333,  0.99408667,  0.99369333,  0.99318   ,\n",
       "         0.99291333,  0.99256667,  0.99235333,  0.99186   ,  0.99146   ,\n",
       "         0.99110667,  0.65373333,  0.08374   ,  0.05648667,  0.04102667,\n",
       "         0.03226667,  0.02439333,  0.01778   ,  0.01371333,  0.01118   ,\n",
       "         0.00780667],\n",
       "       [ 0.99740667,  0.99719333,  0.99702667,  0.99673333,  0.99666667,\n",
       "         0.99630667,  0.99626667,  0.99597333,  0.99568   ,  0.99538   ,\n",
       "         0.99552667,  0.99514   ,  0.99502667,  0.99482667,  0.99456   ,\n",
       "         0.99412   ,  0.85027333,  0.08827333,  0.0595    ,  0.04118667,\n",
       "         0.03274667,  0.02424   ,  0.01783333,  0.01364667,  0.01128667,\n",
       "         0.00772   ],\n",
       "       [ 0.99849333,  0.99836667,  0.99818   ,  0.99799333,  0.99786   ,\n",
       "         0.99762667,  0.99768667,  0.99770667,  0.99749333,  0.99731333,\n",
       "         0.99732   ,  0.99718667,  0.99703333,  0.99686   ,  0.99675333,\n",
       "         0.99646   ,  0.99602   ,  0.09407333,  0.06108667,  0.04159333,\n",
       "         0.03281333,  0.02438   ,  0.01786667,  0.01366   ,  0.0111    ,\n",
       "         0.00774667],\n",
       "       [ 0.99901333,  0.99902   ,  0.99885333,  0.99876667,  0.99868   ,\n",
       "         0.9986    ,  0.99853333,  0.9985    ,  0.99844   ,  0.99824   ,\n",
       "         0.99825333,  0.99819333,  0.99814   ,  0.99799333,  0.99793333,\n",
       "         0.99772667,  0.99759333,  0.11865333,  0.06229333,  0.04234667,\n",
       "         0.0329    ,  0.0245    ,  0.01782667,  0.01368   ,  0.01114   ,\n",
       "         0.00773333],\n",
       "       [ 0.99955333,  0.99948   ,  0.99942   ,  0.99933333,  0.99927333,\n",
       "         0.99919333,  0.99923333,  0.99917333,  0.99911333,  0.99899333,\n",
       "         0.99908667,  0.99894667,  0.999     ,  0.99890667,  0.99883333,\n",
       "         0.99864   ,  0.99864667,  0.18401333,  0.06508667,  0.04279333,\n",
       "         0.03334   ,  0.02443333,  0.01776667,  0.01372667,  0.01112667,\n",
       "         0.00775333],\n",
       "       [ 0.99958667,  0.99960667,  0.99957333,  0.99958   ,  0.99945333,\n",
       "         0.99952   ,  0.99943333,  0.99947333,  0.9994    ,  0.99931333,\n",
       "         0.99935333,  0.99925333,  0.99928   ,  0.99922   ,  0.99919333,\n",
       "         0.99911333,  0.99896   ,  0.38766667,  0.06717333,  0.04314667,\n",
       "         0.03325333,  0.02445333,  0.0178    ,  0.01361333,  0.01106   ,\n",
       "         0.0078    ],\n",
       "       [ 0.99984   ,  0.99974667,  0.99978   ,  0.99974667,  0.99971333,\n",
       "         0.99972667,  0.99973333,  0.99968667,  0.99968   ,  0.99958   ,\n",
       "         0.99962667,  0.99957333,  0.99960667,  0.99952   ,  0.99952   ,\n",
       "         0.99941333,  0.99931333,  0.67986667,  0.06804   ,  0.04301333,\n",
       "         0.03410667,  0.0245    ,  0.01785333,  0.01357333,  0.01114667,\n",
       "         0.00783333],\n",
       "       [ 0.99988   ,  0.99984   ,  0.99981333,  0.99983333,  0.99983333,\n",
       "         0.99980667,  0.99980667,  0.9998    ,  0.9998    ,  0.99965333,\n",
       "         0.99976   ,  0.99967333,  0.99969333,  0.99965333,  0.99967333,\n",
       "         0.9996    ,  0.99952   ,  0.82742667,  0.07147333,  0.04371333,\n",
       "         0.03364667,  0.02482   ,  0.01771333,  0.01368   ,  0.01115333,\n",
       "         0.0078    ],\n",
       "       [ 0.99992   ,  0.99994   ,  0.99989333,  0.99989333,  0.99989333,\n",
       "         0.99989333,  0.9999    ,  0.99987333,  0.99987333,  0.99977333,\n",
       "         0.99983333,  0.9998    ,  0.99978667,  0.99974667,  0.99976667,\n",
       "         0.99968   ,  0.99958   ,  0.87803333,  0.07526667,  0.04412   ,\n",
       "         0.03393333,  0.02494667,  0.01789333,  0.01355333,  0.01112   ,\n",
       "         0.0078    ],\n",
       "       [ 0.99998   ,  0.99996   ,  0.99997333,  0.99998   ,  0.99994   ,\n",
       "         0.99996   ,  0.99996667,  0.99997333,  0.99994   ,  0.99985333,\n",
       "         0.99991333,  0.99987333,  0.99988667,  0.99984667,  0.99982667,\n",
       "         0.99978   ,  0.99965333,  0.9991    ,  0.07676667,  0.04442   ,\n",
       "         0.03472667,  0.02465333,  0.01777333,  0.01348667,  0.01124667,\n",
       "         0.00774667]])"
      ]
     },
     "execution_count": 33,
     "metadata": {},
     "output_type": "execute_result"
    }
   ],
   "source": [
    "infectionsize_node"
   ]
  },
  {
   "cell_type": "code",
   "execution_count": 4,
   "metadata": {},
   "outputs": [
    {
     "ename": "NameError",
     "evalue": "name 'infectionsize_edge' is not defined",
     "output_type": "error",
     "traceback": [
      "\u001b[0;31m---------------------------------------------------------------------------\u001b[0m",
      "\u001b[0;31mNameError\u001b[0m                                 Traceback (most recent call last)",
      "\u001b[0;32m<ipython-input-4-646a937db79c>\u001b[0m in \u001b[0;36m<module>\u001b[0;34m()\u001b[0m\n\u001b[0;32m----> 1\u001b[0;31m \u001b[0minfectionsize_edge\u001b[0m\u001b[0;34m\u001b[0m\u001b[0m\n\u001b[0m",
      "\u001b[0;31mNameError\u001b[0m: name 'infectionsize_edge' is not defined"
     ]
    }
   ],
   "source": [
    "infectionsize_edge"
   ]
  },
  {
   "cell_type": "code",
   "execution_count": null,
   "metadata": {},
   "outputs": [],
   "source": []
  }
 ],
 "metadata": {
  "kernelspec": {
   "display_name": "Python 3",
   "language": "python",
   "name": "python3"
  },
  "language_info": {
   "codemirror_mode": {
    "name": "ipython",
    "version": 3
   },
   "file_extension": ".py",
   "mimetype": "text/x-python",
   "name": "python",
   "nbconvert_exporter": "python",
   "pygments_lexer": "ipython3",
   "version": "3.5.2"
  }
 },
 "nbformat": 4,
 "nbformat_minor": 2
}
