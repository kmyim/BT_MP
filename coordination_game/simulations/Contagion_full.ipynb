{
 "cells": [
  {
   "cell_type": "code",
   "execution_count": 2,
   "metadata": {},
   "outputs": [],
   "source": [
    "%matplotlib inline\n",
    "\n",
    "import networkx as nx\n",
    "import numpy as np\n",
    "\n",
    "import matplotlib\n",
    "import matplotlib.pyplot as plt"
   ]
  },
  {
   "cell_type": "code",
   "execution_count": 4,
   "metadata": {},
   "outputs": [],
   "source": [
    "def powerlaw(D, lamb, p0):\n",
    "    x = np.arange(1,D)\n",
    "    x = np.asarray(x, dtype=float)\n",
    "    x = x**(-lamb)\n",
    "    x = x/x.sum(axis=0)*(1-p0)\n",
    "    x = np.insert(x, 0, p0, axis=0)\n",
    "    return x"
   ]
  },
  {
   "cell_type": "code",
   "execution_count": 148,
   "metadata": {},
   "outputs": [],
   "source": [
    "N = 100\n",
    "D = 10\n",
    "B = 10\n",
    "\n",
    "lambi = 5\n",
    "lambo = 5 "
   ]
  },
  {
   "cell_type": "code",
   "execution_count": 149,
   "metadata": {},
   "outputs": [],
   "source": [
    "din = np.random.choice(np.arange(D), N, replace=True, p=powerlaw(D,lambi, 0.0))\n",
    "dou = np.random.choice(np.arange(D), N, replace=True, p=powerlaw(D,lambo, 0.0))\n",
    "\n",
    "if din.sum() < dou.sum() :\n",
    "    din[N-1] = din[N-1] + dou.sum() - din.sum()\n",
    "    np.random.shuffle(din)\n",
    "elif din.sum() > dou.sum():\n",
    "    dou[N-1] = dou[N-1] + din.sum() - dou.sum()\n",
    "    np.random.shuffle(dou)"
   ]
  },
  {
   "cell_type": "code",
   "execution_count": 150,
   "metadata": {},
   "outputs": [],
   "source": [
    "G=nx.directed_configuration_model(list(din),list(dou))\n",
    "G=nx.DiGraph(G)\n",
    "G.remove_edges_from(G.selfloop_edges())"
   ]
  },
  {
   "cell_type": "code",
   "execution_count": 151,
   "metadata": {},
   "outputs": [],
   "source": [
    "clean = set(np.arange(N))\n",
    "infected = set()\n",
    "\n",
    "node2Group = np.repeat(np.arange(B), N/B)\n",
    "np.random.shuffle(node2Group)   \n",
    "\n",
    "infected = set(np.where(node2Group ==0)[0])\n",
    "clean = set(np.arange(N)) - infected"
   ]
  },
  {
   "cell_type": "code",
   "execution_count": 152,
   "metadata": {},
   "outputs": [],
   "source": [
    "downstream = set()\n",
    "for n in infected:\n",
    "    downstream.update(set(G.successors(n)))\n",
    "\n",
    "H = G.to_directed()\n",
    "H.remove_nodes_from(infected)\n",
    "hscc = nx.strongly_connected_components_recursive(H)\n",
    "\n",
    "\n",
    "shoreparty = set()\n",
    "for comp in hscc:\n",
    "    if len(set.intersection(comp, downstream))>0:\n",
    "        shoreparty.update(comp)\n",
    "\n",
    "\n",
    "H.remove_nodes_from(shoreparty)\n",
    "hscc2 = nx.strongly_connected_components_recursive(H)\n"
   ]
  },
  {
   "cell_type": "code",
   "execution_count": 153,
   "metadata": {},
   "outputs": [
    {
     "data": {
      "text/plain": [
       "10"
      ]
     },
     "execution_count": 153,
     "metadata": {},
     "output_type": "execute_result"
    }
   ],
   "source": [
    "len(infected)"
   ]
  },
  {
   "cell_type": "code",
   "execution_count": 154,
   "metadata": {},
   "outputs": [],
   "source": [
    "for g in range(B):\n",
    "    cleangroup = set(np.where(node2Group ==g)[0]) - shoreparty - infected\n",
    "    if len(cleangroup) > 0:\n",
    "        for comp in hscc2:\n",
    "            if cleangroup == comp:\n",
    "                infected = infected | set(np.where(node2Group ==g)[0])\n",
    "                clean = clean - set(np.where(node2Group ==g)[0])\n",
    "                break\n",
    "    elif len(cleangroup) == 0:\n",
    "        infected = infected | set(np.where(node2Group ==g)[0])\n",
    "        clean = clean - set(np.where(node2Group ==g)[0])\n"
   ]
  },
  {
   "cell_type": "code",
   "execution_count": 155,
   "metadata": {},
   "outputs": [
    {
     "data": {
      "text/plain": [
       "10"
      ]
     },
     "execution_count": 155,
     "metadata": {},
     "output_type": "execute_result"
    }
   ],
   "source": [
    "len(infected)"
   ]
  },
  {
   "cell_type": "code",
   "execution_count": 146,
   "metadata": {},
   "outputs": [
    {
     "data": {
      "text/plain": [
       "{1, 2, 3}"
      ]
     },
     "execution_count": 146,
     "metadata": {},
     "output_type": "execute_result"
    }
   ],
   "source": [
    "{1,2} | {1,3}"
   ]
  },
  {
   "cell_type": "code",
   "execution_count": 147,
   "metadata": {},
   "outputs": [],
   "source": [
    "#nx.set_node_attributes(G, 'state', 0)\n",
    "#nx.set_node_attributes(G, 'group', 0)\n",
    "#Group = np.repeat(np.arange(B), N/B)\n",
    "#np.random.shuffle(Group)\n",
    "#for n in G:\n",
    "    #G.add_node(n, group=Group[n])"
   ]
  },
  {
   "cell_type": "code",
   "execution_count": 127,
   "metadata": {},
   "outputs": [
    {
     "data": {
      "text/plain": [
       "[<matplotlib.lines.Line2D at 0x7f38417b3b00>]"
      ]
     },
     "execution_count": 127,
     "metadata": {},
     "output_type": "execute_result"
    },
    {
     "data": {
      "image/png": "[encoded data removed]",
      "text/plain": [
       "<matplotlib.figure.Figure at 0x7f3841883e80>"
      ]
     },
     "metadata": {},
     "output_type": "display_data"
    }
   ],
   "source": [
    "plt.plot(np.arange(D), powerlaw(D, lambi, 0.0))"
   ]
  },
  {
   "cell_type": "code",
   "execution_count": null,
   "metadata": {},
   "outputs": [],
   "source": []
  }
 ],
 "metadata": {
  "kernelspec": {
   "display_name": "Python 3",
   "language": "python",
   "name": "python3"
  },
  "language_info": {
   "codemirror_mode": {
    "name": "ipython",
    "version": 3
   },
   "file_extension": ".py",
   "mimetype": "text/x-python",
   "name": "python",
   "nbconvert_exporter": "python",
   "pygments_lexer": "ipython3",
   "version": "3.5.2"
  }
 },
 "nbformat": 4,
 "nbformat_minor": 2
}
