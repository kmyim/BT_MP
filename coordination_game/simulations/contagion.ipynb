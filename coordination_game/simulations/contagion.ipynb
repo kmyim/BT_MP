{
 "cells": [
  {
   "cell_type": "code",
   "execution_count": 1,
   "metadata": {},
   "outputs": [],
   "source": [
    "%matplotlib inline\n",
    "\n",
    "import networkx as nx\n",
    "import numpy as np\n",
    "\n",
    "import matplotlib\n",
    "import matplotlib.pyplot as plt"
   ]
  },
  {
   "cell_type": "code",
   "execution_count": 2,
   "metadata": {},
   "outputs": [],
   "source": [
    "N = 1000\n",
    "D = 50\n",
    "B = 5"
   ]
  },
  {
   "cell_type": "code",
   "execution_count": 3,
   "metadata": {},
   "outputs": [],
   "source": [
    "lambi = 2.8\n",
    "lambo = 2.8"
   ]
  },
  {
   "cell_type": "code",
   "execution_count": 4,
   "metadata": {},
   "outputs": [],
   "source": [
    "def powerlaw(D, lamb, p0):\n",
    "    x = np.arange(1,D)\n",
    "    x = np.asarray(x, dtype=float)\n",
    "    x = x**(-lamb)\n",
    "    x = x/x.sum(axis=0)*(1-p0)\n",
    "    x = np.insert(x, 0, p0, axis=0)\n",
    "    return x"
   ]
  },
  {
   "cell_type": "code",
   "execution_count": 5,
   "metadata": {},
   "outputs": [],
   "source": [
    "\n"
   ]
  },
  {
   "cell_type": "code",
   "execution_count": 6,
   "metadata": {},
   "outputs": [
    {
     "data": {
      "text/plain": [
       "[<matplotlib.lines.Line2D at 0x7f7c966fa8d0>]"
      ]
     },
     "execution_count": 6,
     "metadata": {},
     "output_type": "execute_result"
    },
    {
     "data": {
      "image/png": "[encoded data removed]",
      "text/plain": [
       "<matplotlib.figure.Figure at 0x7f7c987934a8>"
      ]
     },
     "metadata": {},
     "output_type": "display_data"
    }
   ],
   "source": [
    "plt.plot(np.arange(D), powerlaw(D, lambi, 0.0))"
   ]
  },
  {
   "cell_type": "code",
   "execution_count": 7,
   "metadata": {},
   "outputs": [],
   "source": [
    "G=nx.directed_configuration_model(list(din),list(dou))\n",
    "G=nx.DiGraph(G)\n",
    "G.remove_edges_from(G.selfloop_edges())"
   ]
  },
  {
   "cell_type": "code",
   "execution_count": 26,
   "metadata": {},
   "outputs": [],
   "source": [
    "nx.set_node_attributes(G, 'state', 0)\n",
    "nx.set_node_attributes(G, 'group', 0)\n",
    "Group = np.repeat(np.arange(B), N/B)\n",
    "np.random.shuffle(Group)\n",
    "for n in G:\n",
    "    G.add_node(n, group=Group[n])\n",
    "\n",
    "    "
   ]
  },
  {
   "cell_type": "code",
   "execution_count": 30,
   "metadata": {},
   "outputs": [
    {
     "data": {
      "text/plain": [
       "array([False, False,  True, False, False, False, False, False, False,\n",
       "       False, False, False,  True,  True,  True, False,  True, False,\n",
       "       False, False, False, False, False, False, False, False, False,\n",
       "        True, False, False, False, False, False,  True, False, False,\n",
       "       False, False,  True,  True, False, False, False, False, False,\n",
       "       False, False, False, False, False, False, False, False, False,\n",
       "        True,  True, False, False, False, False, False,  True,  True,\n",
       "       False, False, False, False, False, False, False, False, False,\n",
       "       False, False, False, False, False, False, False, False, False,\n",
       "       False,  True, False,  True, False, False,  True, False, False,\n",
       "        True, False,  True, False, False, False,  True,  True, False,\n",
       "        True, False,  True, False, False, False, False,  True, False,\n",
       "       False,  True,  True, False, False, False, False,  True, False,\n",
       "        True, False, False,  True, False, False, False,  True, False,\n",
       "       False, False, False, False, False, False, False,  True,  True,\n",
       "       False, False, False, False, False, False,  True, False, False,\n",
       "       False, False, False, False, False, False,  True,  True, False,\n",
       "       False, False,  True, False, False, False, False, False, False,\n",
       "        True, False,  True, False, False,  True,  True, False, False,\n",
       "        True, False, False, False, False, False, False, False, False,\n",
       "       False, False, False,  True, False, False, False, False, False,\n",
       "        True,  True, False,  True,  True, False,  True, False,  True,\n",
       "       False, False,  True, False, False, False, False, False, False,\n",
       "       False, False, False,  True, False,  True, False, False, False,\n",
       "       False, False, False,  True, False, False, False, False,  True,\n",
       "       False,  True, False, False,  True, False, False, False, False,\n",
       "       False, False, False, False, False, False, False, False, False,\n",
       "       False, False, False, False,  True,  True, False,  True,  True,\n",
       "       False, False, False, False, False, False,  True,  True, False,\n",
       "        True, False, False, False, False, False, False, False,  True,\n",
       "       False, False, False, False, False,  True, False, False, False,\n",
       "       False, False, False, False, False, False, False, False, False,\n",
       "       False, False, False, False,  True, False, False, False, False,\n",
       "       False, False, False, False,  True,  True,  True, False, False,\n",
       "       False, False,  True, False, False, False, False, False, False,\n",
       "       False, False, False, False, False, False, False,  True, False,\n",
       "       False,  True, False,  True, False,  True, False, False, False,\n",
       "       False,  True, False, False, False, False, False, False, False,\n",
       "       False, False, False,  True,  True, False, False,  True, False,\n",
       "       False, False, False, False,  True, False, False, False,  True,\n",
       "        True, False, False, False,  True, False, False, False, False,\n",
       "       False,  True,  True, False, False, False, False, False,  True,\n",
       "        True,  True, False, False, False,  True, False, False,  True,\n",
       "       False, False,  True, False, False,  True, False, False, False,\n",
       "       False, False, False, False, False, False, False, False, False,\n",
       "       False, False, False,  True,  True,  True, False, False, False,\n",
       "        True, False, False, False,  True, False, False, False,  True,\n",
       "       False, False, False, False, False, False, False, False,  True,\n",
       "        True, False, False, False, False, False, False, False, False,\n",
       "       False,  True, False, False,  True, False, False, False, False,\n",
       "       False, False, False, False, False, False, False, False, False,\n",
       "       False, False, False, False,  True, False, False, False, False,\n",
       "       False, False,  True, False,  True, False, False, False, False,\n",
       "        True, False, False,  True, False,  True, False,  True, False,\n",
       "        True, False, False, False,  True, False, False, False,  True,\n",
       "        True, False, False, False, False, False, False, False, False,\n",
       "        True,  True, False, False, False,  True, False, False, False,\n",
       "       False, False, False, False, False, False, False, False, False,\n",
       "       False, False, False, False, False, False,  True, False, False,\n",
       "        True, False,  True, False, False, False, False,  True, False,\n",
       "        True, False, False,  True, False, False, False, False, False,\n",
       "        True, False, False, False,  True,  True, False, False, False,\n",
       "       False, False, False,  True, False, False,  True,  True,  True,\n",
       "       False, False, False,  True, False, False, False, False, False,\n",
       "       False, False, False, False, False, False, False, False, False,\n",
       "       False, False, False,  True, False, False, False, False, False,\n",
       "       False,  True,  True, False, False, False, False, False, False,\n",
       "       False,  True, False,  True, False, False, False, False, False,\n",
       "       False, False, False, False, False, False, False, False, False,\n",
       "       False, False, False,  True, False,  True, False, False, False,\n",
       "       False, False,  True,  True, False, False, False, False, False,\n",
       "       False, False, False, False, False, False, False, False, False,\n",
       "       False, False,  True, False, False, False, False, False, False,\n",
       "       False, False, False, False, False, False, False, False, False,\n",
       "       False, False, False, False, False, False, False, False,  True,\n",
       "        True, False, False,  True, False,  True,  True, False, False,\n",
       "        True, False,  True,  True, False, False, False, False, False,\n",
       "       False, False, False, False,  True,  True,  True, False, False,\n",
       "        True, False, False, False, False, False,  True, False, False,\n",
       "       False,  True,  True, False, False, False, False,  True,  True,\n",
       "       False, False, False,  True, False, False, False, False, False,\n",
       "        True, False,  True, False, False, False, False, False, False,\n",
       "       False, False, False, False,  True, False, False, False,  True,\n",
       "       False, False,  True, False, False, False, False, False, False,\n",
       "       False,  True, False, False,  True, False, False, False, False,\n",
       "        True, False, False,  True,  True, False,  True, False, False,\n",
       "       False, False, False, False, False, False, False, False, False,\n",
       "       False, False, False, False,  True,  True,  True, False, False,\n",
       "       False,  True, False, False,  True, False, False, False, False,\n",
       "       False, False, False, False, False, False, False, False, False,\n",
       "        True, False, False, False, False, False, False, False, False,\n",
       "       False, False, False, False, False, False, False, False, False,\n",
       "       False,  True, False, False, False, False, False, False, False,\n",
       "       False, False, False, False, False, False, False, False, False,\n",
       "       False, False, False, False, False, False, False, False, False,\n",
       "       False, False, False, False, False,  True, False, False,  True,\n",
       "       False, False, False, False, False, False, False, False, False,\n",
       "       False, False, False, False, False,  True, False, False, False,\n",
       "       False, False, False,  True, False,  True, False, False, False,\n",
       "       False, False, False,  True, False,  True, False, False, False,\n",
       "        True, False, False, False, False, False,  True, False, False,\n",
       "       False, False, False, False, False,  True, False, False, False,\n",
       "       False, False,  True, False, False, False, False,  True, False,\n",
       "       False, False,  True, False, False, False, False, False, False,\n",
       "       False, False, False, False, False,  True, False, False, False,\n",
       "       False, False, False, False, False, False, False, False, False,\n",
       "       False, False, False, False,  True,  True, False,  True, False,\n",
       "       False, False, False, False,  True, False, False, False, False,\n",
       "       False, False, False, False, False, False,  True,  True, False,\n",
       "       False,  True, False, False, False, False,  True,  True, False,\n",
       "       False, False,  True,  True, False, False, False,  True, False,  True], dtype=bool)"
      ]
     },
     "execution_count": 30,
     "metadata": {},
     "output_type": "execute_result"
    }
   ],
   "source": []
  },
  {
   "cell_type": "code",
   "execution_count": null,
   "metadata": {},
   "outputs": [],
   "source": []
  },
  {
   "cell_type": "code",
   "execution_count": 11,
   "metadata": {},
   "outputs": [
    {
     "data": {
      "text/plain": [
       "4"
      ]
     },
     "execution_count": 11,
     "metadata": {},
     "output_type": "execute_result"
    }
   ],
   "source": [
    "H = G.to_directed()\n",
    "H.node[0]['group']"
   ]
  },
  {
   "cell_type": "code",
   "execution_count": 12,
   "metadata": {},
   "outputs": [],
   "source": [
    "zeros =  list(n for n,d in G.nodes(data=True) if d['group']==0)"
   ]
  },
  {
   "cell_type": "code",
   "execution_count": 13,
   "metadata": {},
   "outputs": [],
   "source": [
    "for n,d in G.nodes(data=True):\n",
    "    if d['group']==0:\n",
    "        d['state']=1\n",
    "    "
   ]
  },
  {
   "cell_type": "code",
   "execution_count": 14,
   "metadata": {},
   "outputs": [],
   "source": [
    "S = set()\n",
    "for n in zeros:\n",
    "    S.update(set(G.successors(n)))\n",
    "H.remove_nodes_from(zeros)\n",
    "C = nx.strongly_connected_components_recursive(H)"
   ]
  },
  {
   "cell_type": "code",
   "execution_count": 15,
   "metadata": {
    "scrolled": true
   },
   "outputs": [],
   "source": [
    "Sc = set()\n",
    "for c in C:\n",
    "    if len(set.intersection(c, S))>0:\n",
    "        Sc.update(c)"
   ]
  },
  {
   "cell_type": "code",
   "execution_count": 16,
   "metadata": {},
   "outputs": [],
   "source": [
    "for n in list(Sc):\n",
    "    G.add_node(n, state=1)\n",
    "    "
   ]
  },
  {
   "cell_type": "code",
   "execution_count": 17,
   "metadata": {},
   "outputs": [
    {
     "data": {
      "text/plain": [
       "{0,\n",
       " 17,\n",
       " 18,\n",
       " 19,\n",
       " 23,\n",
       " 24,\n",
       " 30,\n",
       " 33,\n",
       " 36,\n",
       " 43,\n",
       " 45,\n",
       " 47,\n",
       " 51,\n",
       " 55,\n",
       " 63,\n",
       " 64,\n",
       " 67,\n",
       " 71,\n",
       " 80,\n",
       " 94,\n",
       " 111,\n",
       " 113,\n",
       " 114,\n",
       " 119,\n",
       " 129,\n",
       " 131,\n",
       " 132,\n",
       " 134,\n",
       " 136,\n",
       " 143,\n",
       " 144,\n",
       " 148,\n",
       " 158,\n",
       " 162,\n",
       " 164,\n",
       " 166,\n",
       " 171,\n",
       " 175,\n",
       " 184,\n",
       " 188,\n",
       " 193,\n",
       " 195,\n",
       " 205,\n",
       " 206,\n",
       " 209,\n",
       " 212,\n",
       " 217,\n",
       " 231,\n",
       " 242,\n",
       " 245,\n",
       " 251,\n",
       " 255,\n",
       " 256,\n",
       " 260,\n",
       " 261,\n",
       " 262,\n",
       " 273,\n",
       " 285,\n",
       " 296,\n",
       " 297,\n",
       " 301,\n",
       " 302,\n",
       " 305,\n",
       " 307,\n",
       " 320,\n",
       " 321,\n",
       " 323,\n",
       " 324,\n",
       " 328,\n",
       " 332,\n",
       " 335,\n",
       " 341,\n",
       " 348,\n",
       " 350,\n",
       " 351,\n",
       " 357,\n",
       " 388,\n",
       " 390,\n",
       " 392,\n",
       " 397,\n",
       " 405,\n",
       " 410,\n",
       " 417,\n",
       " 423,\n",
       " 439,\n",
       " 442,\n",
       " 474,\n",
       " 476,\n",
       " 480,\n",
       " 484,\n",
       " 492,\n",
       " 495,\n",
       " 496,\n",
       " 499,\n",
       " 507,\n",
       " 512,\n",
       " 530,\n",
       " 531,\n",
       " 539,\n",
       " 540,\n",
       " 541,\n",
       " 547,\n",
       " 548,\n",
       " 550,\n",
       " 551,\n",
       " 557,\n",
       " 585,\n",
       " 587,\n",
       " 590,\n",
       " 598,\n",
       " 607,\n",
       " 611,\n",
       " 615,\n",
       " 617,\n",
       " 618,\n",
       " 622,\n",
       " 623,\n",
       " 624,\n",
       " 628,\n",
       " 629,\n",
       " 633,\n",
       " 636,\n",
       " 638,\n",
       " 640,\n",
       " 641,\n",
       " 643,\n",
       " 653,\n",
       " 658,\n",
       " 678,\n",
       " 679,\n",
       " 691,\n",
       " 704,\n",
       " 718,\n",
       " 728,\n",
       " 733,\n",
       " 740,\n",
       " 752,\n",
       " 754,\n",
       " 758,\n",
       " 762,\n",
       " 769,\n",
       " 770,\n",
       " 778,\n",
       " 779,\n",
       " 788,\n",
       " 789,\n",
       " 790,\n",
       " 793,\n",
       " 797,\n",
       " 801,\n",
       " 803,\n",
       " 813,\n",
       " 821,\n",
       " 823,\n",
       " 824,\n",
       " 830,\n",
       " 834,\n",
       " 835,\n",
       " 846,\n",
       " 849,\n",
       " 850,\n",
       " 852,\n",
       " 859,\n",
       " 867,\n",
       " 875,\n",
       " 879,\n",
       " 881,\n",
       " 884,\n",
       " 893,\n",
       " 904,\n",
       " 905,\n",
       " 912,\n",
       " 915,\n",
       " 918,\n",
       " 920,\n",
       " 924,\n",
       " 940,\n",
       " 951,\n",
       " 952,\n",
       " 955,\n",
       " 958,\n",
       " 959,\n",
       " 965,\n",
       " 970,\n",
       " 985,\n",
       " 991,\n",
       " 992,\n",
       " 993,\n",
       " 998}"
      ]
     },
     "execution_count": 17,
     "metadata": {},
     "output_type": "execute_result"
    }
   ],
   "source": [
    "Sc"
   ]
  },
  {
   "cell_type": "code",
   "execution_count": 24,
   "metadata": {},
   "outputs": [
    {
     "data": {
      "text/plain": [
       "1"
      ]
     },
     "execution_count": 24,
     "metadata": {},
     "output_type": "execute_result"
    }
   ],
   "source": [
    "#check with group\n",
    "for a in g"
   ]
  },
  {
   "cell_type": "code",
   "execution_count": 21,
   "metadata": {},
   "outputs": [
    {
     "data": {
      "text/plain": [
       "4"
      ]
     },
     "execution_count": 21,
     "metadata": {},
     "output_type": "execute_result"
    }
   ],
   "source": [
    "G.nodes[0]['group']"
   ]
  },
  {
   "cell_type": "code",
   "execution_count": null,
   "metadata": {},
   "outputs": [],
   "source": []
  }
 ],
 "metadata": {
  "kernelspec": {
   "display_name": "Python 3",
   "language": "python",
   "name": "python3"
  },
  "language_info": {
   "codemirror_mode": {
    "name": "ipython",
    "version": 3
   },
   "file_extension": ".py",
   "mimetype": "text/x-python",
   "name": "python",
   "nbconvert_exporter": "python",
   "pygments_lexer": "ipython3",
   "version": "3.5.2"
  }
 },
 "nbformat": 4,
 "nbformat_minor": 2
}
