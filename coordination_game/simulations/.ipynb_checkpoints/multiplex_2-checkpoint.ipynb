{
 "cells": [
  {
   "cell_type": "code",
   "execution_count": 1,
   "metadata": {},
   "outputs": [],
   "source": [
    "%matplotlib inline\n",
    "\n",
    "import networkx as nx\n",
    "import numpy as np\n",
    "import copy\n",
    "import matplotlib\n",
    "import matplotlib.pyplot as plt"
   ]
  },
  {
   "cell_type": "code",
   "execution_count": 91,
   "metadata": {},
   "outputs": [],
   "source": [
    "def simulate(G, H, trialtime, thresh, p_transmit, infected):    \n",
    "    results = np.zeros([trialtime])\n",
    "    #redun_connections= np.ones([trialtime])\n",
    "    #timetaken = np.zeros([trialtime])\n",
    "    \n",
    "    for t in range(trialtime):\n",
    "        aware = set([])\n",
    "        results[t] = len(infected)\n",
    "        for node in infected:\n",
    "            if np.random.uniform(low=0.0, high=1.0, size=None) < p_transmit:\n",
    "                aware.update({n for n in H.neighbors(node)})\n",
    "        temp = copy.deepcopy(aware)\n",
    "        temp_infect = copy.deepcopy(infected)\n",
    "\n",
    "        for node in temp:\n",
    "            neighH = {n for n in H.neighbors(node)}\n",
    "            neighG = {n for n in G.neighbors(node)}\n",
    "            #timetaken[t] = max(len(neighH), timetaken[t])\n",
    "            #redun_connections[t] = len(neighH - neighH.intersection(neighG))\n",
    "            neighset = neighG\n",
    "\n",
    "            if len(temp_infect.intersection(neighset)) >= thresh*len(neighset) :\n",
    "                infected.update({node})\n",
    "            else: \n",
    "                infected = infected-{node}\n",
    "    #time = np.cumsum(timetaken)\n",
    "    #time = np.insert(time[range(trialtime-1)], 0, 0)\n",
    "    \n",
    "    #return results, timetaken, redun_connections\n",
    "    return results\n",
    "    "
   ]
  },
  {
   "cell_type": "code",
   "execution_count": 84,
   "metadata": {},
   "outputs": [],
   "source": [
    "def comm_network(G, N, n_swap):\n",
    "    H = G.copy()\n",
    "    H = nx.double_edge_swap(H, n_swap, max_tries=n_swap*N);\n",
    "    return H"
   ]
  },
  {
   "cell_type": "code",
   "execution_count": null,
   "metadata": {},
   "outputs": [],
   "source": []
  },
  {
   "cell_type": "code",
   "execution_count": 3,
   "metadata": {},
   "outputs": [],
   "source": [
    "def powerlaw(D, lamb, p0):\n",
    "    x = np.arange(1,D)\n",
    "    x = np.asarray(x, dtype=float)\n",
    "    x = x**(-lamb)\n",
    "    x = x/x.sum(axis=0)*(1-p0)\n",
    "    x = np.insert(x, 0, p0, axis=0)\n",
    "    return x"
   ]
  },
  {
   "cell_type": "code",
   "execution_count": 68,
   "metadata": {},
   "outputs": [],
   "source": [
    "N = 100\n",
    "D = N-1 #maximum degree\n",
    "lamb = 2.5\n",
    "\n",
    "\n",
    "degree_seq = np.random.choice(np.arange(D), N, replace=True, p=powerlaw(D,lamb, 0.0))\n",
    "Gfull=nx.configuration_model(list(degree_seq))\n",
    "G=nx.Graph(Gfull)\n",
    "G.remove_edges_from(G.selfloop_edges())"
   ]
  },
  {
   "cell_type": "code",
   "execution_count": 69,
   "metadata": {},
   "outputs": [
    {
     "data": {
      "text/plain": [
       "1.74"
      ]
     },
     "execution_count": 69,
     "metadata": {},
     "output_type": "execute_result"
    }
   ],
   "source": [
    "np.sum(degree_seq)/N"
   ]
  },
  {
   "cell_type": "code",
   "execution_count": 105,
   "metadata": {},
   "outputs": [
    {
     "ename": "NetworkXAlgorithmError",
     "evalue": "Maximum number of swap attempts (1) exceeded before desired swaps achieved (1.0).",
     "output_type": "error",
     "traceback": [
      "\u001b[0;31m---------------------------------------------------------------------------\u001b[0m",
      "\u001b[0;31mNetworkXAlgorithmError\u001b[0m                    Traceback (most recent call last)",
      "\u001b[0;32m<ipython-input-105-8571c53ba7cf>\u001b[0m in \u001b[0;36m<module>\u001b[0;34m()\u001b[0m\n\u001b[1;32m     16\u001b[0m \u001b[0;34m\u001b[0m\u001b[0m\n\u001b[1;32m     17\u001b[0m         \u001b[0mn_swap\u001b[0m \u001b[0;34m=\u001b[0m \u001b[0mfloat\u001b[0m\u001b[0;34m(\u001b[0m\u001b[0;34m(\u001b[0m\u001b[0mi\u001b[0m\u001b[0;34m)\u001b[0m\u001b[0;34m/\u001b[0m\u001b[0;34m(\u001b[0m\u001b[0mfinesse\u001b[0m\u001b[0;34m)\u001b[0m\u001b[0;34m)\u001b[0m\u001b[0;34m*\u001b[0m\u001b[0mmax_nswap\u001b[0m\u001b[0;34m\u001b[0m\u001b[0m\n\u001b[0;32m---> 18\u001b[0;31m         \u001b[0mH\u001b[0m \u001b[0;34m=\u001b[0m \u001b[0mcomm_network\u001b[0m\u001b[0;34m(\u001b[0m\u001b[0mG\u001b[0m\u001b[0;34m,\u001b[0m \u001b[0mn_swap\u001b[0m\u001b[0;34m)\u001b[0m\u001b[0;34m\u001b[0m\u001b[0m\n\u001b[0m\u001b[1;32m     19\u001b[0m         \u001b[0;31m#H = nx.connected_watts_strogatz_graph(N, , 1, tries=100, seed=None)\u001b[0m\u001b[0;34m\u001b[0m\u001b[0;34m\u001b[0m\u001b[0m\n\u001b[1;32m     20\u001b[0m         \u001b[0;31m#H = nx.erdos_renyi_graph(N, 1.74/N)\u001b[0m\u001b[0;34m\u001b[0m\u001b[0;34m\u001b[0m\u001b[0m\n",
      "\u001b[0;32m<ipython-input-84-1e28af83b43e>\u001b[0m in \u001b[0;36mcomm_network\u001b[0;34m(G, n_swap)\u001b[0m\n\u001b[1;32m      1\u001b[0m \u001b[0;32mdef\u001b[0m \u001b[0mcomm_network\u001b[0m\u001b[0;34m(\u001b[0m\u001b[0mG\u001b[0m\u001b[0;34m,\u001b[0m \u001b[0mn_swap\u001b[0m\u001b[0;34m)\u001b[0m\u001b[0;34m:\u001b[0m\u001b[0;34m\u001b[0m\u001b[0m\n\u001b[1;32m      2\u001b[0m     \u001b[0mH\u001b[0m \u001b[0;34m=\u001b[0m \u001b[0mG\u001b[0m\u001b[0;34m.\u001b[0m\u001b[0mcopy\u001b[0m\u001b[0;34m(\u001b[0m\u001b[0;34m)\u001b[0m\u001b[0;34m\u001b[0m\u001b[0m\n\u001b[0;32m----> 3\u001b[0;31m     \u001b[0mH\u001b[0m \u001b[0;34m=\u001b[0m \u001b[0mnx\u001b[0m\u001b[0;34m.\u001b[0m\u001b[0mdouble_edge_swap\u001b[0m\u001b[0;34m(\u001b[0m\u001b[0mH\u001b[0m\u001b[0;34m,\u001b[0m \u001b[0mn_swap\u001b[0m\u001b[0;34m,\u001b[0m \u001b[0mmax_tries\u001b[0m\u001b[0;34m=\u001b[0m\u001b[0mn_swap\u001b[0m\u001b[0;34m**\u001b[0m\u001b[0;36m2\u001b[0m\u001b[0;34m)\u001b[0m\u001b[0;34m;\u001b[0m\u001b[0;34m\u001b[0m\u001b[0m\n\u001b[0m\u001b[1;32m      4\u001b[0m     \u001b[0;32mreturn\u001b[0m \u001b[0mH\u001b[0m\u001b[0;34m\u001b[0m\u001b[0m\n",
      "\u001b[0;32m/usr/local/lib/python3.5/dist-packages/networkx/algorithms/swap.py\u001b[0m in \u001b[0;36mdouble_edge_swap\u001b[0;34m(G, nswap, max_tries)\u001b[0m\n\u001b[1;32m     97\u001b[0m             e = ('Maximum number of swap attempts (%s) exceeded ' % n +\n\u001b[1;32m     98\u001b[0m                  'before desired swaps achieved (%s).' % nswap)\n\u001b[0;32m---> 99\u001b[0;31m             \u001b[0;32mraise\u001b[0m \u001b[0mnx\u001b[0m\u001b[0;34m.\u001b[0m\u001b[0mNetworkXAlgorithmError\u001b[0m\u001b[0;34m(\u001b[0m\u001b[0me\u001b[0m\u001b[0;34m)\u001b[0m\u001b[0;34m\u001b[0m\u001b[0m\n\u001b[0m\u001b[1;32m    100\u001b[0m         \u001b[0mn\u001b[0m \u001b[0;34m+=\u001b[0m \u001b[0;36m1\u001b[0m\u001b[0;34m\u001b[0m\u001b[0m\n\u001b[1;32m    101\u001b[0m     \u001b[0;32mreturn\u001b[0m \u001b[0mG\u001b[0m\u001b[0;34m\u001b[0m\u001b[0m\n",
      "\u001b[0;31mNetworkXAlgorithmError\u001b[0m: Maximum number of swap attempts (1) exceeded before desired swaps achieved (1.0)."
     ]
    }
   ],
   "source": [
    "trialtime = 10\n",
    "initial_infection = 0.3\n",
    "thresh = 0.3\n",
    "p_transmit = 1\n",
    "finesse = 10\n",
    "trialnumber = 100\n",
    "window = range(50)\n",
    "results_finegrain = np.zeros([finesse,trialtime])\n",
    "times = np.zeros([finesse, trialtime])\n",
    "max_nswap = finesse\n",
    "\n",
    "for T in range(trialnumber):\n",
    "    infected = set(np.random.choice([n for n in G.nodes()], int(N*initial_infection)))\n",
    "\n",
    "    for i in range(finesse):\n",
    "     \n",
    "        n_swap = float((i)/(finesse))*max_nswap\n",
    "        H = comm_network(G, n_swap)\n",
    "        #H = nx.connected_watts_strogatz_graph(N, , 1, tries=100, seed=None)\n",
    "        #H = nx.erdos_renyi_graph(N, 1.74/N)\n",
    "        #H = G\n",
    "        R = simulate(G, H, trialtime, thresh, p_transmit, copy.deepcopy(infected))\n",
    "        results_finegrain[i] = R + results_finegrain[i]\n",
    "        #results[i]= R[0] + results[i]\n",
    "        #times[i] = R[1] + times[i]\n",
    "\n",
    "        #plt.plot(out[1][window], out[0][window])"
   ]
  },
  {
   "cell_type": "code",
   "execution_count": null,
   "metadata": {},
   "outputs": [],
   "source": [
    "w= range(30)\n",
    "\n",
    "for i in range(0,finesse):\n",
    "    #timer = np.cumsum(times[i][w])/trialnumber\n",
    "    #timer = np.insert(timer[range(trialtime-1)], 0, 0)\n",
    "    #plt.plot(timer, results[i][w]/N/trialnumber)\n",
    "    plt.plot(results[i][w]/N/trialnumber, '-')\n",
    "    '''\n",
    "    if results[i][trialtime-1]<0.7*N*trialnumber:\n",
    "        print(i)\n",
    "    '''\n",
    "#plt.plot(times[2], results[2], 'r+')\n",
    "#infected"
   ]
  },
  {
   "cell_type": "code",
   "execution_count": 82,
   "metadata": {},
   "outputs": [
    {
     "data": {
      "text/plain": [
       "160"
      ]
     },
     "execution_count": 82,
     "metadata": {},
     "output_type": "execute_result"
    }
   ],
   "source": [
    "np.sum(np.array([d for d in H.degree()]).T[1])"
   ]
  },
  {
   "cell_type": "code",
   "execution_count": 83,
   "metadata": {},
   "outputs": [
    {
     "data": {
      "text/plain": [
       "174"
      ]
     },
     "execution_count": 83,
     "metadata": {},
     "output_type": "execute_result"
    }
   ],
   "source": [
    "np.sum(np.array([d for d in G.degree()]).T[1])"
   ]
  },
  {
   "cell_type": "code",
   "execution_count": 94,
   "metadata": {},
   "outputs": [
    {
     "data": {
      "text/plain": [
       "array([[ 26.,  47.,  61.,  67.,  72.,  74.,  78.,  78.,  78.,  78.,  78.,\n",
       "         78.,  78.,  78.,  78.,  78.,  78.,  78.,  78.,  78.,  78.,  78.,\n",
       "         78.,  78.,  78.,  78.,  78.,  78.,  78.,  78.,  78.,  78.,  78.,\n",
       "         78.,  78.,  78.,  78.,  78.,  78.,  78.,  78.,  78.,  78.,  78.,\n",
       "         78.,  78.,  78.,  78.,  78.,  78.],\n",
       "       [ 26.,  29.,  33.,  38.,  40.,  39.,  39.,  39.,  39.,  39.,  39.,\n",
       "         39.,  39.,  39.,  39.,  39.,  39.,  39.,  39.,  39.,  39.,  39.,\n",
       "         39.,  39.,  39.,  39.,  39.,  39.,  39.,  39.,  39.,  39.,  39.,\n",
       "         39.,  39.,  39.,  39.,  39.,  39.,  39.,  39.,  39.,  39.,  39.,\n",
       "         39.,  39.,  39.,  39.,  39.,  39.],\n",
       "       [ 26.,  25.,  29.,  29.,  32.,  31.,  31.,  31.,  31.,  31.,  31.,\n",
       "         31.,  31.,  31.,  31.,  31.,  31.,  31.,  31.,  31.,  31.,  31.,\n",
       "         31.,  31.,  31.,  31.,  31.,  31.,  31.,  31.,  31.,  31.,  31.,\n",
       "         31.,  31.,  31.,  31.,  31.,  31.,  31.,  31.,  31.,  31.,  31.,\n",
       "         31.,  31.,  31.,  31.,  31.,  31.],\n",
       "       [ 26.,  30.,  32.,  37.,  35.,  37.,  37.,  37.,  37.,  37.,  37.,\n",
       "         37.,  37.,  37.,  37.,  37.,  37.,  37.,  37.,  37.,  37.,  37.,\n",
       "         37.,  37.,  37.,  37.,  37.,  37.,  37.,  37.,  37.,  37.,  37.,\n",
       "         37.,  37.,  37.,  37.,  37.,  37.,  37.,  37.,  37.,  37.,  37.,\n",
       "         37.,  37.,  37.,  37.,  37.,  37.],\n",
       "       [ 26.,  28.,  35.,  39.,  41.,  43.,  42.,  45.,  42.,  45.,  42.,\n",
       "         45.,  42.,  45.,  42.,  45.,  42.,  45.,  42.,  45.,  42.,  45.,\n",
       "         42.,  45.,  42.,  45.,  42.,  45.,  42.,  45.,  42.,  45.,  42.,\n",
       "         45.,  42.,  45.,  42.,  45.,  42.,  45.,  42.,  45.,  42.,  45.,\n",
       "         42.,  45.,  42.,  45.,  42.,  45.],\n",
       "       [ 26.,  28.,  29.,  30.,  31.,  32.,  32.,  32.,  32.,  32.,  32.,\n",
       "         32.,  32.,  32.,  32.,  32.,  32.,  32.,  32.,  32.,  32.,  32.,\n",
       "         32.,  32.,  32.,  32.,  32.,  32.,  32.,  32.,  32.,  32.,  32.,\n",
       "         32.,  32.,  32.,  32.,  32.,  32.,  32.,  32.,  32.,  32.,  32.,\n",
       "         32.,  32.,  32.,  32.,  32.,  32.],\n",
       "       [ 26.,  23.,  27.,  34.,  37.,  40.,  41.,  41.,  41.,  41.,  41.,\n",
       "         41.,  41.,  41.,  41.,  41.,  41.,  41.,  41.,  41.,  41.,  41.,\n",
       "         41.,  41.,  41.,  41.,  41.,  41.,  41.,  41.,  41.,  41.,  41.,\n",
       "         41.,  41.,  41.,  41.,  41.,  41.,  41.,  41.,  41.,  41.,  41.,\n",
       "         41.,  41.,  41.,  41.,  41.,  41.],\n",
       "       [ 26.,  29.,  31.,  36.,  37.,  37.,  38.,  37.,  38.,  37.,  38.,\n",
       "         37.,  38.,  37.,  38.,  37.,  38.,  37.,  38.,  37.,  38.,  37.,\n",
       "         38.,  37.,  38.,  37.,  38.,  37.,  38.,  37.,  38.,  37.,  38.,\n",
       "         37.,  38.,  37.,  38.,  37.,  38.,  37.,  38.,  37.,  38.,  37.,\n",
       "         38.,  37.,  38.,  37.,  38.,  37.],\n",
       "       [ 26.,  28.,  38.,  45.,  48.,  50.,  53.,  58.,  59.,  60.,  60.,\n",
       "         60.,  60.,  60.,  60.,  60.,  60.,  60.,  60.,  60.,  60.,  60.,\n",
       "         60.,  60.,  60.,  60.,  60.,  60.,  60.,  60.,  60.,  60.,  60.,\n",
       "         60.,  60.,  60.,  60.,  60.,  60.,  60.,  60.,  60.,  60.,  60.,\n",
       "         60.,  60.,  60.,  60.,  60.,  60.],\n",
       "       [ 26.,  27.,  30.,  34.,  39.,  39.,  39.,  39.,  39.,  39.,  39.,\n",
       "         39.,  39.,  39.,  39.,  39.,  39.,  39.,  39.,  39.,  39.,  39.,\n",
       "         39.,  39.,  39.,  39.,  39.,  39.,  39.,  39.,  39.,  39.,  39.,\n",
       "         39.,  39.,  39.,  39.,  39.,  39.,  39.,  39.,  39.,  39.,  39.,\n",
       "         39.,  39.,  39.,  39.,  39.,  39.]])"
      ]
     },
     "execution_count": 94,
     "metadata": {},
     "output_type": "execute_result"
    }
   ],
   "source": [
    "results"
   ]
  },
  {
   "cell_type": "code",
   "execution_count": null,
   "metadata": {},
   "outputs": [],
   "source": []
  }
 ],
 "metadata": {
  "kernelspec": {
   "display_name": "Python 3",
   "language": "python",
   "name": "python3"
  },
  "language_info": {
   "codemirror_mode": {
    "name": "ipython",
    "version": 3
   },
   "file_extension": ".py",
   "mimetype": "text/x-python",
   "name": "python",
   "nbconvert_exporter": "python",
   "pygments_lexer": "ipython3",
   "version": "3.5.2"
  }
 },
 "nbformat": 4,
 "nbformat_minor": 2
}
