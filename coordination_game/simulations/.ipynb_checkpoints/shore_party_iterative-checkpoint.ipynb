{
 "cells": [
  {
   "cell_type": "code",
   "execution_count": 90,
   "metadata": {},
   "outputs": [],
   "source": [
    "%matplotlib inline\n",
    "import copy\n",
    "import networkx as nx\n",
    "import numpy as np\n",
    "\n",
    "import matplotlib\n",
    "import matplotlib.pyplot as plt"
   ]
  },
  {
   "cell_type": "code",
   "execution_count": 44,
   "metadata": {},
   "outputs": [],
   "source": [
    "def powerlaw(D, lamb, p0):\n",
    "    x = np.arange(1,D)\n",
    "    x = np.asarray(x, dtype=float)\n",
    "    x = x**(-lamb)\n",
    "    x = x/x.sum(axis=0)*(1-p0)\n",
    "    x = np.insert(x, 0, p0, axis=0)\n",
    "    return x"
   ]
  },
  {
   "cell_type": "code",
   "execution_count": 69,
   "metadata": {},
   "outputs": [],
   "source": [
    "N = 50\n",
    "D = 30\n",
    "B = 10\n",
    "\n",
    "lambi = 2.5\n",
    "lambo = 2.5 "
   ]
  },
  {
   "cell_type": "code",
   "execution_count": 70,
   "metadata": {},
   "outputs": [],
   "source": [
    "din = np.random.choice(np.arange(D), N, replace=True, p=powerlaw(D,lambi, 0.0))\n",
    "diff = 10000\n",
    "while diff > 0:\n",
    "    dou = np.random.choice(np.arange(D), N, replace=True, p=powerlaw(D,lambo, 0.0))\n",
    "    diff = abs(din.sum() - dou.sum())"
   ]
  },
  {
   "cell_type": "code",
   "execution_count": 81,
   "metadata": {},
   "outputs": [],
   "source": [
    "node2Group = np.repeat(np.arange(B), N/B)\n",
    "edges = dou.sum()\n",
    "out_order = np.zeros([edges])\n",
    "s = 0\n",
    "\n",
    "for node in range(N):   \n",
    "    out_order[range(s, s+dou[node])] = [node]*dou[node]\n",
    "    s = s+dou[node]\n",
    "\n",
    "    \n",
    "np.random.shuffle(out_order)   "
   ]
  },
  {
   "cell_type": "code",
   "execution_count": null,
   "metadata": {},
   "outputs": [],
   "source": []
  },
  {
   "cell_type": "code",
   "execution_count": 82,
   "metadata": {},
   "outputs": [
    {
     "data": {
      "text/plain": [
       "[<matplotlib.lines.Line2D at 0x7fdeb788dc18>]"
      ]
     },
     "execution_count": 82,
     "metadata": {},
     "output_type": "execute_result"
    },
    {
     "data": {
      "image/png": "[encoded data removed]",
      "text/plain": [
       "<matplotlib.figure.Figure at 0x7fdeb78f9860>"
      ]
     },
     "metadata": {},
     "output_type": "display_data"
    }
   ],
   "source": [
    "plt.plot(np.arange(D), powerlaw(D, lambo, 0.0))"
   ]
  },
  {
   "cell_type": "code",
   "execution_count": 83,
   "metadata": {},
   "outputs": [],
   "source": [
    "# planted partition\n",
    "gg = [None]*B\n",
    "for g in range(B):\n",
    "    gg[g] = set(np.where(node2Group ==g)[0])\n",
    "\n",
    "Group2node = dict(zip(range(B), gg)) \n",
    "    \n",
    "adj = np.zeros([N,N])\n",
    "pin = 0.3\n"
   ]
  },
  {
   "cell_type": "code",
   "execution_count": 86,
   "metadata": {},
   "outputs": [
    {
     "ename": "SyntaxError",
     "evalue": "unexpected EOF while parsing (<ipython-input-86-b3b9468ae91c>, line 2)",
     "output_type": "error",
     "traceback": [
      "\u001b[0;36m  File \u001b[0;32m\"<ipython-input-86-b3b9468ae91c>\"\u001b[0;36m, line \u001b[0;32m2\u001b[0m\n\u001b[0;31m    \u001b[0m\n\u001b[0m    ^\u001b[0m\n\u001b[0;31mSyntaxError\u001b[0m\u001b[0;31m:\u001b[0m unexpected EOF while parsing\n"
     ]
    }
   ],
   "source": [
    "G = nx.digraph()\n",
    "Gtemp = copy.deepcopy(Group2node)\n",
    "totalset = set(range(N));\n",
    "for e in range(edges):\n",
    "    n = out_order(e) #outnode\n",
    "    homeset = list(Gtemp(n) - n) #group that node belongs to\n",
    "    if np.random.random_sample() < pin :\n",
    "        destination = homeset(int(np.random.random_sample()*(len(homeset)-1)))\n",
    "        G.add_edge(n, destination)\n",
    "        Gtemp[n] = Gtemp[n] - destination\n",
    "    else :\n",
    "        otherset = set(range(N)) - \n",
    "        destination = homeset(int(np.random.random_sample()*(len(homeset)-1)))\n",
    "        "
   ]
  },
  {
   "cell_type": "code",
   "execution_count": 100,
   "metadata": {},
   "outputs": [
    {
     "name": "stdout",
     "output_type": "stream",
     "text": [
      "10\n",
      "11\n",
      "12\n",
      "13\n",
      "14\n"
     ]
    }
   ],
   "source": [
    "for a in Gtemp[2]:\n",
    "    print(a)"
   ]
  },
  {
   "cell_type": "code",
   "execution_count": null,
   "metadata": {},
   "outputs": [],
   "source": []
  },
  {
   "cell_type": "code",
   "execution_count": null,
   "metadata": {},
   "outputs": [],
   "source": []
  }
 ],
 "metadata": {
  "kernelspec": {
   "display_name": "Python 3",
   "language": "python",
   "name": "python3"
  },
  "language_info": {
   "codemirror_mode": {
    "name": "ipython",
    "version": 3
   },
   "file_extension": ".py",
   "mimetype": "text/x-python",
   "name": "python",
   "nbconvert_exporter": "python",
   "pygments_lexer": "ipython3",
   "version": "3.5.2"
  }
 },
 "nbformat": 4,
 "nbformat_minor": 2
}
