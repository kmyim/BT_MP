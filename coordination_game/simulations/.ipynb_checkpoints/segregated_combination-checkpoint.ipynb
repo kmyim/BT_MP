{
 "cells": [
  {
   "cell_type": "code",
   "execution_count": 1,
   "metadata": {},
   "outputs": [],
   "source": [
    "import networkx as nx\n",
    "import numpy as np\n",
    "import matplotlib\n",
    "import matplotlib.pyplot as plt"
   ]
  },
  {
   "cell_type": "code",
   "execution_count": 230,
   "metadata": {},
   "outputs": [],
   "source": [
    "m = 5\n",
    "n=5\n",
    "lmax = n/(m-1)"
   ]
  },
  {
   "cell_type": "code",
   "execution_count": 162,
   "metadata": {},
   "outputs": [],
   "source": [
    "def assign(lam, m, n):\n",
    "    assignments =  np.random.poisson(lam, (m,m))\n",
    "    for i in range(m):\n",
    "        assignments[i][i] = np.random.poisson(n-lam*(m-1))\n",
    "\n",
    "\n",
    "    diff = np.arange(m) -np.argmax(assignments, axis=1)\n",
    "    for clique_row in range(m): \n",
    "        assignments[clique_row] = assignments[clique_row][(np.arange(m) - diff[clique_row])%m]\n",
    "    return assignments"
   ]
  },
  {
   "cell_type": "code",
   "execution_count": 160,
   "metadata": {},
   "outputs": [],
   "source": [
    "def reassign(assignments, m):\n",
    "    new_assign = np.zeros([m,m], dtype=int)\n",
    "    for clique_row in range(m):\n",
    "        sort = np.random.choice(range(m), m, replace = True)\n",
    "        for s in range(m):\n",
    "            new_assign[clique_row][sort[s]] = new_assign[clique_row][sort[s]] + assignments[clique_row][s]\n",
    "\n",
    "        diff = clique_row -np.argmax(new_assign[clique_row])\n",
    "        newsort = (np.arange(m) - diff)%m\n",
    "        new_assign[clique_row] = new_assign[clique_row][newsort]\n",
    "    return new_assign"
   ]
  },
  {
   "cell_type": "code",
   "execution_count": 231,
   "metadata": {},
   "outputs": [
    {
     "name": "stderr",
     "output_type": "stream",
     "text": [
      "/usr/local/lib/python3.5/dist-packages/ipykernel_launcher.py:12: RuntimeWarning: invalid value encountered in true_divide\n",
      "  if sys.path[0] == '':\n"
     ]
    }
   ],
   "source": [
    "trialnumber = 100\n",
    "finesse=5\n",
    "rates = np.linspace(0, lmax, finesse)\n",
    "\n",
    "trialtime = 50\n",
    "results = np.zeros([finesse,trialtime])\n",
    "for l in range(finesse):\n",
    "    for tn in range(trialnumber):\n",
    "        A = assign(rates[l], m, n)\n",
    "        cliquesize = np.sum(A, axis=1)\n",
    "        for t in range(trialtime):\n",
    "            results[l][t] = results[l][t]  + np.sum(A.diagonal()/cliquesize)/m\n",
    "            A = reassign(A, m)\n",
    "    results[l] = results[l]/trialnumber"
   ]
  },
  {
   "cell_type": "code",
   "execution_count": 234,
   "metadata": {},
   "outputs": [],
   "source": [
    "window = range(1,20)\n",
    "#plt.semilogy(window, 1-results[window])\n",
    "#print(A)\n",
    "for l in range(5,finesse):\n",
    "    plt.semilogy(window, 1-(results[l][window] - results[l][1])/(results[l][trialtime-1]-results[l][1]))\n",
    "    #plt.plot(window, results[l][window])\n"
   ]
  },
  {
   "cell_type": "code",
   "execution_count": 207,
   "metadata": {},
   "outputs": [
    {
     "ename": "NameError",
     "evalue": "name 'x' is not defined",
     "output_type": "error",
     "traceback": [
      "\u001b[0;31m---------------------------------------------------------------------------\u001b[0m",
      "\u001b[0;31mNameError\u001b[0m                                 Traceback (most recent call last)",
      "\u001b[0;32m<ipython-input-207-0984f6c82bbb>\u001b[0m in \u001b[0;36m<module>\u001b[0;34m()\u001b[0m\n\u001b[0;32m----> 1\u001b[0;31m \u001b[0mnp\u001b[0m\u001b[0;34m.\u001b[0m\u001b[0mcount_nonzero\u001b[0m\u001b[0;34m(\u001b[0m\u001b[0mx\u001b[0m \u001b[0;34m-\u001b[0m \u001b[0mnp\u001b[0m\u001b[0;34m.\u001b[0m\u001b[0mdiag\u001b[0m\u001b[0;34m(\u001b[0m\u001b[0mnp\u001b[0m\u001b[0;34m.\u001b[0m\u001b[0mdiagonal\u001b[0m\u001b[0;34m(\u001b[0m\u001b[0mx\u001b[0m\u001b[0;34m)\u001b[0m\u001b[0;34m)\u001b[0m\u001b[0;34m)\u001b[0m\u001b[0;34m\u001b[0m\u001b[0m\n\u001b[0m",
      "\u001b[0;31mNameError\u001b[0m: name 'x' is not defined"
     ]
    }
   ],
   "source": [
    "np.count_nonzero(x - np.diag(np.diagonal(x)))"
   ]
  }
 ],
 "metadata": {
  "kernelspec": {
   "display_name": "Python 3",
   "language": "python",
   "name": "python3"
  },
  "language_info": {
   "codemirror_mode": {
    "name": "ipython",
    "version": 3
   },
   "file_extension": ".py",
   "mimetype": "text/x-python",
   "name": "python",
   "nbconvert_exporter": "python",
   "pygments_lexer": "ipython3",
   "version": "3.5.2"
  }
 },
 "nbformat": 4,
 "nbformat_minor": 2
}
