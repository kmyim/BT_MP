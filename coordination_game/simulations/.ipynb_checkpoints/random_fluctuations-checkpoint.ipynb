{
 "cells": [
  {
   "cell_type": "code",
   "execution_count": 1,
   "metadata": {},
   "outputs": [],
   "source": [
    "import copy\n",
    "import networkx as nx\n",
    "import numpy as np\n",
    "import matplotlib\n",
    "import matplotlib.pyplot as plt"
   ]
  },
  {
   "cell_type": "code",
   "execution_count": 123,
   "metadata": {},
   "outputs": [],
   "source": [
    "N = 100 #number of nodes\n",
    "M = 10 # number of communities \n",
    "#p = 0.1# replacement probability\n",
    "intragroup_freq = M/N\n",
    "extragroup_freq = (1-M/N)/(M-1)/100\n",
    "#random_freq = extragroup_freq/10\n",
    "random_freq = 0"
   ]
  },
  {
   "cell_type": "code",
   "execution_count": 124,
   "metadata": {},
   "outputs": [
    {
     "name": "stdout",
     "output_type": "stream",
     "text": [
      "0.1\n",
      "0.001\n",
      "0\n"
     ]
    }
   ],
   "source": [
    "print(intragroup_freq)\n",
    "print(extragroup_freq)\n",
    "print(random_freq)\n"
   ]
  },
  {
   "cell_type": "code",
   "execution_count": 125,
   "metadata": {},
   "outputs": [],
   "source": [
    "G = nx.random_partition_graph([int(N/M)]*M,0.05,0.05)\n",
    "nx.set_edge_attributes(G, extragroup_freq, 'freq')\n",
    "\n",
    "for part in G.graph['partition']:\n",
    "    sub = G.subgraph(part)\n",
    "    nx.set_edge_attributes(sub, intragroup_freq, 'freq')\n"
   ]
  },
  {
   "cell_type": "code",
   "execution_count": 126,
   "metadata": {},
   "outputs": [
    {
     "data": {
      "text/plain": [
       "'\\nnodeset = set(range(N))\\ngroups = {x: set() for x in range(M)}\\n\\nwhile len(nodeset) > 0:\\n    nset = np.array(list(nodeset))\\n    node = np.random.choice(nset, 1)[0]\\n    group = np.random.choice(np.arange(M), 1)[0]\\n    groups[group] = groups[group] | {node}\\n    if np.random.rand() > p :\\n        nodeset = nodeset - {node}\\n'"
      ]
     },
     "execution_count": 126,
     "metadata": {},
     "output_type": "execute_result"
    }
   ],
   "source": [
    "'''\n",
    "nodeset = set(range(N))\n",
    "groups = {x: set() for x in range(M)}\n",
    "\n",
    "while len(nodeset) > 0:\n",
    "    nset = np.array(list(nodeset))\n",
    "    node = np.random.choice(nset, 1)[0]\n",
    "    group = np.random.choice(np.arange(M), 1)[0]\n",
    "    groups[group] = groups[group] | {node}\n",
    "    if np.random.rand() > p :\n",
    "        nodeset = nodeset - {node}\n",
    "'''"
   ]
  },
  {
   "cell_type": "code",
   "execution_count": 127,
   "metadata": {},
   "outputs": [],
   "source": [
    "#G = nx.Graph()\n",
    "\n",
    "#for g in groups:\n",
    "    #sub = nx.complete_graph(groups[g])\n",
    "    #nx.set_edge_attributes(sub, 0.98, 'freq')\n",
    "    #G = nx.compose(sub, G)\n"
   ]
  },
  {
   "cell_type": "code",
   "execution_count": 128,
   "metadata": {},
   "outputs": [
    {
     "data": {
      "image/png": "[encoded data removed]",
      "text/plain": [
       "<matplotlib.figure.Figure at 0x7f838efbb278>"
      ]
     },
     "metadata": {},
     "output_type": "display_data"
    }
   ],
   "source": [
    "\n",
    "position = nx.spring_layout(G)\n",
    "nx.draw(G, pos = position, node_size=10)\n",
    "Gedges,Gweights = zip(*nx.get_edge_attributes(G,'freq').items())\n",
    "nx.draw(G, pos = position, node_color='k', edgelist=Gedges, edge_color=Gweights, width=1.0, node_size = 1, edge_cmap=plt.cm.Blues)\n"
   ]
  },
  {
   "cell_type": "code",
   "execution_count": 129,
   "metadata": {},
   "outputs": [],
   "source": [
    "edgeswap = N**2\n",
    "H = G.copy()\n",
    "#nx.double_edge_swap(H,nswap=edgeswap, max_tries=edgeswap*10)\n",
    "#nx.draw(H, pos = position, node_size = 10)"
   ]
  },
  {
   "cell_type": "code",
   "execution_count": 130,
   "metadata": {},
   "outputs": [],
   "source": [
    "G_edges = {e for e in G.edges}\n",
    "\n",
    "Comm = nx.complete_graph(N)\n",
    "Comm_edges = {e for e in Comm.edges}\n",
    "for e in Comm_edges:\n",
    "    if e in G_edges:\n",
    "        #print(e)\n",
    "        Comm.edges[e]['freq'] = G.edges[e]['freq']\n",
    "    else :\n",
    "        Comm.edges[e]['freq'] = random_freq\n",
    "#Cedges,Cweights = zip(*nx.get_edge_attributes(G,'freq').items())\n",
    "#nx.draw(Comm, pos = position, node_color='b', edgelist=edges, edge_color=weights, width=1.0, node_size = 10, edge_cmap=plt.cm.Blues)\n",
    "#n, bins, patches = plt.hist(Cweights, 30, normed=1, facecolor='green', alpha=0.75)\n",
    "#plt.show()\n"
   ]
  },
  {
   "cell_type": "code",
   "execution_count": 131,
   "metadata": {},
   "outputs": [
    {
     "data": {
      "text/plain": [
       "\"\\ntrialtime = 1000\\ninfection = 0.03\\nrecovery = 0.1\\nsteps = 2\\ninfectionsize = np.zeros([steps, trialtime])\\nfor s in range(steps):\\n    infection_thresh = s/(steps-1)\\n    infected_nodes = set()\\n    clean_nodes = set(range(N))- infected_nodes\\n    nx.set_edge_attributes(G, extragroup_freq, 'freq')\\n\\n    for part in G.graph['partition']:\\n        sub = G.subgraph(part)\\n        nx.set_edge_attributes(sub, intragroup_freq, 'freq')\\n\\n    for e in Comm_edges:\\n        if e in G_edges:\\n            #print(e)\\n            Comm.edges[e]['freq'] = G.edges[e]['freq']\\n        else :\\n            Comm.edges[e]['freq'] = random_freq\\n    for t in range(trialtime):\\n        infectionsize[s][t] = len(infected_nodes)/N\\n        \\n        \\n        if t > 10 and infectionsize[s][t]  <= 1/N:\\n            infectionsize[s][range(t+1, trialtime)] = 0\\n            break\\n        if t > 10 and infectionsize[s][t] >= 1- 1/N:\\n            infectionsize[s][range(t+1, trialtime)] = 1\\n            break\\n        \\n        if len(clean_nodes) > 0:\\n            inspiration = set(np.random.choice(list(clean_nodes), int(len(clean_nodes)*infection), replace=False))\\n            infected_nodes.update(inspiration)\\n            clean_nodes = set(range(N))- infected_nodes\\n        \\n        \\n        \\n        node = np.random.choice(range(N), 1, replace=False)[0]\\n        coalition = {node}\\n        probit = np.random.rand(N)\\n        for n in set(range(N)) - {node}:\\n            if probit[n] < Comm.edges[node, n]['freq']:\\n                coalition = coalition | {n}\\n        neighbors = set()\\n        for member in coalition:\\n            neighbors.update({n for n in H.neighbors(member)})\\n        \\n        neighbors =  neighbors - coalition\\n        coal = list(coalition)\\n        \\n        if len(neighbors) - len(infected_nodes.intersection(neighbors)) <= infection_thresh*len(neighbors) :\\n            if not(coalition <= infected_nodes):\\n                \\n                for node_a in range(len(coal)):\\n                    for node_b in range(node_a + 1, len(coal)):\\n                        Comm.edges[coal[node_a], coal[node_b]]['freq'] = np.sqrt(Comm.edges[coal[node_a], coal[node_b]]['freq'])\\n                \\n                infected_nodes.update(coalition)\\n                clean_nodes = set(range(N))- infected_nodes\\n                \\n                        \\n        else :\\n            if not(coalition <= clean_nodes):\\n                clean_nodes.update(coalition)\\n                infected_nodes = set(range(N))- clean_nodes\\n                for node_a in range(len(coal)):\\n                    for node_b in range(node_a + 1, len(coal)):\\n                        Comm.edges[coal[node_a], coal[node_b]]['freq'] = (Comm.edges[coal[node_a], coal[node_b]]['freq'])**2\\n\\n        infected_nodes.discard(inspiration - coalition)\\n        clean_nodes = set(range(N))- infected_nodes\\n\""
      ]
     },
     "execution_count": 131,
     "metadata": {},
     "output_type": "execute_result"
    }
   ],
   "source": [
    "'''\n",
    "trialtime = 1000\n",
    "infection = 0.03\n",
    "recovery = 0.1\n",
    "steps = 2\n",
    "infectionsize = np.zeros([steps, trialtime])\n",
    "for s in range(steps):\n",
    "    infection_thresh = s/(steps-1)\n",
    "    infected_nodes = set()\n",
    "    clean_nodes = set(range(N))- infected_nodes\n",
    "    nx.set_edge_attributes(G, extragroup_freq, 'freq')\n",
    "\n",
    "    for part in G.graph['partition']:\n",
    "        sub = G.subgraph(part)\n",
    "        nx.set_edge_attributes(sub, intragroup_freq, 'freq')\n",
    "\n",
    "    for e in Comm_edges:\n",
    "        if e in G_edges:\n",
    "            #print(e)\n",
    "            Comm.edges[e]['freq'] = G.edges[e]['freq']\n",
    "        else :\n",
    "            Comm.edges[e]['freq'] = random_freq\n",
    "    for t in range(trialtime):\n",
    "        infectionsize[s][t] = len(infected_nodes)/N\n",
    "        \n",
    "        \n",
    "        if t > 10 and infectionsize[s][t]  <= 1/N:\n",
    "            infectionsize[s][range(t+1, trialtime)] = 0\n",
    "            break\n",
    "        if t > 10 and infectionsize[s][t] >= 1- 1/N:\n",
    "            infectionsize[s][range(t+1, trialtime)] = 1\n",
    "            break\n",
    "        \n",
    "        if len(clean_nodes) > 0:\n",
    "            inspiration = set(np.random.choice(list(clean_nodes), int(len(clean_nodes)*infection), replace=False))\n",
    "            infected_nodes.update(inspiration)\n",
    "            clean_nodes = set(range(N))- infected_nodes\n",
    "        \n",
    "        \n",
    "        \n",
    "        node = np.random.choice(range(N), 1, replace=False)[0]\n",
    "        coalition = {node}\n",
    "        probit = np.random.rand(N)\n",
    "        for n in set(range(N)) - {node}:\n",
    "            if probit[n] < Comm.edges[node, n]['freq']:\n",
    "                coalition = coalition | {n}\n",
    "        neighbors = set()\n",
    "        for member in coalition:\n",
    "            neighbors.update({n for n in H.neighbors(member)})\n",
    "        \n",
    "        neighbors =  neighbors - coalition\n",
    "        coal = list(coalition)\n",
    "        \n",
    "        if len(neighbors) - len(infected_nodes.intersection(neighbors)) <= infection_thresh*len(neighbors) :\n",
    "            if not(coalition <= infected_nodes):\n",
    "                \n",
    "                for node_a in range(len(coal)):\n",
    "                    for node_b in range(node_a + 1, len(coal)):\n",
    "                        Comm.edges[coal[node_a], coal[node_b]]['freq'] = np.sqrt(Comm.edges[coal[node_a], coal[node_b]]['freq'])\n",
    "                \n",
    "                infected_nodes.update(coalition)\n",
    "                clean_nodes = set(range(N))- infected_nodes\n",
    "                \n",
    "                        \n",
    "        else :\n",
    "            if not(coalition <= clean_nodes):\n",
    "                clean_nodes.update(coalition)\n",
    "                infected_nodes = set(range(N))- clean_nodes\n",
    "                for node_a in range(len(coal)):\n",
    "                    for node_b in range(node_a + 1, len(coal)):\n",
    "                        Comm.edges[coal[node_a], coal[node_b]]['freq'] = (Comm.edges[coal[node_a], coal[node_b]]['freq'])**2\n",
    "\n",
    "        infected_nodes.discard(inspiration - coalition)\n",
    "        clean_nodes = set(range(N))- infected_nodes\n",
    "'''"
   ]
  },
  {
   "cell_type": "code",
   "execution_count": 132,
   "metadata": {
    "scrolled": true
   },
   "outputs": [
    {
     "data": {
      "text/plain": [
       "\"\\nwindow = 1000\\nt = range(window)\\n#plt.plot(t, infectionsize[0][t], 'r+', t, infectionsize[1][t], 'b+')\\nplt.plot(t, infectionsize[0][t], 'b-')\\n\\nplt.show()\\n\""
      ]
     },
     "execution_count": 132,
     "metadata": {},
     "output_type": "execute_result"
    }
   ],
   "source": [
    "'''\n",
    "window = 1000\n",
    "t = range(window)\n",
    "#plt.plot(t, infectionsize[0][t], 'r+', t, infectionsize[1][t], 'b+')\n",
    "plt.plot(t, infectionsize[0][t], 'b-')\n",
    "\n",
    "plt.show()\n",
    "'''"
   ]
  },
  {
   "cell_type": "code",
   "execution_count": 133,
   "metadata": {
    "scrolled": true
   },
   "outputs": [
    {
     "name": "stdout",
     "output_type": "stream",
     "text": [
      "0.005555555555555556\n",
      "0.011111111111111112\n",
      "0.016666666666666666\n",
      "0.022222222222222223\n",
      "0.02777777777777778\n",
      "0.03333333333333333\n",
      "0.03888888888888889\n",
      "0.044444444444444446\n",
      "0.05\n"
     ]
    }
   ],
   "source": [
    "trialtime = 100\n",
    "#infection = 0.03\n",
    "\n",
    "steps = 10\n",
    "infection_thresh = 0\n",
    "infectionsize = np.zeros([steps, trialtime])\n",
    "coalitionsize = np.zeros([steps, trialtime])\n",
    "neighboursize = np.zeros([steps, trialtime])\n",
    "\n",
    "for s in range(1,steps):\n",
    "    infection = s/(steps-1)*0.05\n",
    "    print(infection)\n",
    "    infected_nodes = set()\n",
    "    clean_nodes = set(range(N))- infected_nodes\n",
    "    nx.set_edge_attributes(G, extragroup_freq, 'freq')\n",
    "\n",
    "    for part in G.graph['partition']:\n",
    "        sub = G.subgraph(part)\n",
    "        nx.set_edge_attributes(sub, intragroup_freq, 'freq')\n",
    "\n",
    "    for e in Comm_edges:\n",
    "        if e in G_edges:\n",
    "            #print(e)\n",
    "            Comm.edges[e]['freq'] = G.edges[e]['freq']\n",
    "        else :\n",
    "            Comm.edges[e]['freq'] = random_freq\n",
    "\n",
    "    for t in range(trialtime):\n",
    "        infectionsize[s][t] = len(infected_nodes)/N\n",
    "        \n",
    "        '''\n",
    "        if t > 10 and infectionsize[s][t]  <= 1/N:\n",
    "            infectionsize[s][range(t+1, trialtime)] = 0\n",
    "            break\n",
    "        if t > 10 and infectionsize[s][t] >= 1- 1/N:\n",
    "            infectionsize[s][range(t+1, trialtime)] = 1\n",
    "            break\n",
    "        '''\n",
    "        if len(clean_nodes) > 0:\n",
    "            inspiration = set(np.random.choice(list(clean_nodes), int(len(clean_nodes)*infection), replace=False))\n",
    "            #inspiration = set(np.random.choice(list(clean_nodes), int(N*infection), replace=False))\n",
    "            infected_nodes.update(inspiration)\n",
    "            clean_nodes = set(range(N))- infected_nodes\n",
    "        \n",
    "        \n",
    "        \n",
    "        node = np.random.choice(range(N), 1, replace=False)[0]\n",
    "        coalition = {node}\n",
    "        probit = np.random.rand(N)\n",
    "        for n in set(range(N)) - {node}:\n",
    "            if probit[n] < Comm.edges[node, n]['freq']:\n",
    "                coalition = coalition | {n}\n",
    "        coal = list(coalition)        \n",
    "        coalitionsize[s][t] = len(coalition)\n",
    "        \n",
    "        neighbors = set()\n",
    "        for member in coalition:\n",
    "            neighbors.update({n for n in H.neighbors(member)})\n",
    "        \n",
    "        neighbors =  neighbors - coalition\n",
    "        neighboursize[s][t] = len(neighbors)\n",
    "        \n",
    "        if len(neighbors) - len(infected_nodes.intersection(neighbors)) <= infection_thresh*len(neighbors) :\n",
    "            #if not(coalition <= infected_nodes):\n",
    "            '''\n",
    "            for node_a in range(len(coal)):\n",
    "                for node_b in range(node_a + 1, len(coal)):\n",
    "                    Comm.edges[coal[node_a], coal[node_b]]['freq'] = np.sqrt(Comm.edges[coal[node_a], coal[node_b]]['freq'])\n",
    "            '''\n",
    "            infected_nodes.update(coalition)\n",
    "            clean_nodes = set(range(N))- infected_nodes\n",
    "\n",
    "                        \n",
    "        else :\n",
    "            #if not(coalition <= clean_nodes):\n",
    "            clean_nodes.update(coalition)\n",
    "            infected_nodes = set(range(N))- clean_nodes\n",
    "            '''\n",
    "            for node_a in range(len(coal)):\n",
    "                for node_b in range(node_a + 1, len(coal)):\n",
    "                    Comm.edges[coal[node_a], coal[node_b]]['freq'] = (Comm.edges[coal[node_a], coal[node_b]]['freq'])**2\n",
    "            '''\n",
    "        for node in inspiration:\n",
    "            if not(node in coalition and coalition <= infected_nodes):\n",
    "                infected_nodes.discard({node})\n",
    "            \n",
    "\n",
    "        clean_nodes = set(range(N))- infected_nodes\n",
    "    '''\n",
    "    Cedges,Cweights = zip(*nx.get_edge_attributes(Comm,'freq').items())\n",
    "    Cweights = np.array(Cweights)\n",
    "    Cweights = Cweights[Cweights > random_freq]\n",
    "    n, bins, patches = plt.hist(Cweights, 100, normed=1, facecolor='green', alpha=0.75)\n",
    "    plt.show()\n",
    "    '''"
   ]
  },
  {
   "cell_type": "code",
   "execution_count": 138,
   "metadata": {},
   "outputs": [
    {
     "data": {
      "image/png": "[encoded data removed]",
      "text/plain": [
       "<matplotlib.figure.Figure at 0x7f838eff7cf8>"
      ]
     },
     "metadata": {},
     "output_type": "display_data"
    }
   ],
   "source": [
    "window = 100\n",
    "t = range(window)\n",
    "i = 6\n",
    "plt.plot(t, infectionsize[i][t], 'k-',t, coalitionsize[i][t]/N, 'r-', t, neighboursize[i][t]/N, 'b-')\n",
    "plt.ylim(0, 1)\n",
    "#plt.plot(t, infectionsize[1][t])\n",
    "#plt.plot(t, coalitionsize[1][t]) \n",
    "#plt.plot(coalitionsize[i], neighboursize[i], 'b+')\n",
    "plt.show()"
   ]
  },
  {
   "cell_type": "code",
   "execution_count": 50,
   "metadata": {},
   "outputs": [
    {
     "data": {
      "image/png": "[encoded data removed]",
      "text/plain": [
       "<matplotlib.figure.Figure at 0x7f838f02c400>"
      ]
     },
     "metadata": {},
     "output_type": "display_data"
    }
   ],
   "source": [
    "n, bins, patches = plt.hist(coalitionsize[5], 20, normed=1, facecolor='green', alpha=0.75)\n",
    "plt.show()"
   ]
  },
  {
   "cell_type": "code",
   "execution_count": null,
   "metadata": {},
   "outputs": [],
   "source": [
    "Cedges,Cweights = zip(*nx.get_edge_attributes(Comm,'freq').items())\n",
    "#nx.draw(Comm, pos = position, node_color='b', edgelist=edges, edge_color=weights, width=1.0, node_size = 10, edge_cmap=plt.cm.Blues)\n",
    "Cweights = np.array(Cweights)\n",
    "Cweights = Cweights[Cweights > random_freq]\n",
    "n, bins, patches = plt.hist(Cweights, 30, normed=1, facecolor='green', alpha=0.75)\n",
    "plt.show()\n"
   ]
  },
  {
   "cell_type": "code",
   "execution_count": null,
   "metadata": {},
   "outputs": [],
   "source": []
  },
  {
   "cell_type": "code",
   "execution_count": null,
   "metadata": {},
   "outputs": [],
   "source": [
    "G = nx.random_partition_graph([10,10,10],.25,.01)\n",
    "partition = G.graph['partition']"
   ]
  },
  {
   "cell_type": "code",
   "execution_count": null,
   "metadata": {},
   "outputs": [],
   "source": [
    "partition[0]"
   ]
  },
  {
   "cell_type": "code",
   "execution_count": null,
   "metadata": {},
   "outputs": [],
   "source": [
    "nx.draw(G)"
   ]
  },
  {
   "cell_type": "code",
   "execution_count": null,
   "metadata": {},
   "outputs": [],
   "source": [
    "nx.draw(G[partition[0]])"
   ]
  },
  {
   "cell_type": "code",
   "execution_count": null,
   "metadata": {},
   "outputs": [],
   "source": [
    "G[[0,1]]"
   ]
  },
  {
   "cell_type": "code",
   "execution_count": null,
   "metadata": {},
   "outputs": [],
   "source": [
    "Htemp = nx.complete_graph(G)"
   ]
  },
  {
   "cell_type": "code",
   "execution_count": null,
   "metadata": {},
   "outputs": [],
   "source": [
    "Htemp.edges[(0,2)]['freq']"
   ]
  },
  {
   "cell_type": "code",
   "execution_count": null,
   "metadata": {},
   "outputs": [],
   "source": []
  }
 ],
 "metadata": {
  "kernelspec": {
   "display_name": "Python 3",
   "language": "python",
   "name": "python3"
  },
  "language_info": {
   "codemirror_mode": {
    "name": "ipython",
    "version": 3
   },
   "file_extension": ".py",
   "mimetype": "text/x-python",
   "name": "python",
   "nbconvert_exporter": "python",
   "pygments_lexer": "ipython3",
   "version": "3.5.2"
  }
 },
 "nbformat": 4,
 "nbformat_minor": 2
}
