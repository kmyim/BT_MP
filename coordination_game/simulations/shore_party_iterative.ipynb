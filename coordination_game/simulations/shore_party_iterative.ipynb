{
 "cells": [
  {
   "cell_type": "code",
   "execution_count": 1,
   "metadata": {},
   "outputs": [],
   "source": [
    "%matplotlib inline\n",
    "import copy\n",
    "import networkx as nx\n",
    "import numpy as np\n",
    "\n",
    "import matplotlib\n",
    "import matplotlib.pyplot as plt"
   ]
  },
  {
   "cell_type": "code",
   "execution_count": 2,
   "metadata": {},
   "outputs": [],
   "source": [
    "def powerlaw(D, lamb, p0):\n",
    "    x = np.arange(1,D)\n",
    "    x = np.asarray(x, dtype=float)\n",
    "    x = x**(-lamb)\n",
    "    x = x/x.sum(axis=0)*(1-p0)\n",
    "    x = np.insert(x, 0, p0, axis=0)\n",
    "    return x"
   ]
  },
  {
   "cell_type": "code",
   "execution_count": 150,
   "metadata": {},
   "outputs": [],
   "source": [
    "N = 100\n",
    "D = 20\n",
    "B = 25\n",
    "q = 0.05\n",
    "\n",
    "lambi = 1.2\n",
    "lambo = 1.2 \n",
    "win = 10\n",
    "wou = 0.001"
   ]
  },
  {
   "cell_type": "code",
   "execution_count": 151,
   "metadata": {},
   "outputs": [],
   "source": [
    "din = np.random.choice(np.arange(D), N, replace=True, p=powerlaw(D,lambi, 0.0))\n",
    "diff = 10000\n",
    "while diff > 0:\n",
    "    dou = np.random.choice(np.arange(D), N, replace=True, p=powerlaw(D,lambo, 0.0))\n",
    "    diff = abs(din.sum() - dou.sum())"
   ]
  },
  {
   "cell_type": "code",
   "execution_count": 152,
   "metadata": {},
   "outputs": [],
   "source": [
    "node2Group = np.repeat(np.arange(B), N/B)\n",
    "edges = dou.sum()\n",
    "out_order = np.zeros([edges])\n",
    "out_order = np.asarray(out_order, dtype=int)\n",
    "s = 0\n",
    "\n",
    "for node in range(N):   \n",
    "    out_order[range(s, s+dou[node])] = [node]*dou[node]\n",
    "    s = s+dou[node]\n",
    "\n",
    "    \n",
    "np.random.shuffle(out_order)   "
   ]
  },
  {
   "cell_type": "code",
   "execution_count": 153,
   "metadata": {},
   "outputs": [],
   "source": [
    "#plt.plot(np.arange(D), powerlaw(D, lambo, 0.0))"
   ]
  },
  {
   "cell_type": "code",
   "execution_count": 154,
   "metadata": {},
   "outputs": [],
   "source": [
    "G = nx.DiGraph()\n",
    "dintemp = np.asarray(copy.deepcopy(din), dtype=float)\n",
    "\n",
    "for e in range(edges):\n",
    "    n = out_order[e] #outnode\n",
    "    g = node2Group[n] #group to which out node belongs\n",
    "    nodedist = copy.deepcopy(dintemp)\n",
    "    nodedist[node2Group == g] = nodedist[node2Group == g]*win\n",
    "    nodedist[node2Group != g] = nodedist[node2Group != g]*wou\n",
    "    nodedist = nodedist/nodedist.sum()\n",
    "    nodes = np.arange(N)\n",
    "    destination = int(np.random.choice(nodes, 1, replace=False, p = nodedist))\n",
    "    \n",
    "    G.add_edge(n, destination)\n",
    "    dintemp[destination] = dintemp[destination] -1\n",
    "\n",
    "G=nx.DiGraph(G)\n",
    "G.remove_edges_from(G.selfloop_edges())"
   ]
  },
  {
   "cell_type": "code",
   "execution_count": 155,
   "metadata": {},
   "outputs": [],
   "source": [
    "#nx.draw(G, pos=nx.shell_layout(G), node_size = 10, linewidths=0, width = 0.2)"
   ]
  },
  {
   "cell_type": "code",
   "execution_count": 156,
   "metadata": {},
   "outputs": [],
   "source": [
    "T = 3000\n",
    "trialresult = np.empty([T])\n",
    "for trial in range(T):\n",
    "    infected = set(np.random.choice(range(N), int(q*N),replace=False))\n",
    "    clean = set(np.arange(N)) - infected\n",
    "    infecsize = np.zeros(N)\n",
    "    for step in range(N):\n",
    "        infecsize[step] = len(infected)/N\n",
    "        downstream = set()\n",
    "        for n in infected:\n",
    "            downstream.update(set(G.successors(n)))\n",
    "\n",
    "        H = G.to_directed()\n",
    "        H.remove_nodes_from(infected)\n",
    "        hscc = nx.strongly_connected_components_recursive(H)\n",
    "\n",
    "\n",
    "        shoreparty = set()\n",
    "        for comp in hscc:\n",
    "            if len(set.intersection(comp, downstream))>0:\n",
    "                shoreparty.update(comp)\n",
    "                #infected.update(comp)\n",
    "\n",
    "        H.remove_nodes_from(shoreparty)\n",
    "        hscc2 = nx.strongly_connected_components_recursive(H)\n",
    "        for g in range(B):\n",
    "            cleangroup = set(np.where(node2Group ==g)[0]) - shoreparty - infected\n",
    "            if len(cleangroup) > 0:\n",
    "                for comp in hscc2:\n",
    "                    if cleangroup == comp:\n",
    "                        infected = infected | set(np.where(node2Group ==g)[0])\n",
    "                        clean = clean - set(np.where(node2Group ==g)[0])\n",
    "                        break\n",
    "            elif len(cleangroup) == 0:\n",
    "                infected = infected | set(np.where(node2Group ==g)[0])\n",
    "                clean = clean - set(np.where(node2Group ==g)[0])\n",
    "    trialresult[trial] = infecsize[N-1]"
   ]
  },
  {
   "cell_type": "code",
   "execution_count": 157,
   "metadata": {},
   "outputs": [
    {
     "data": {
      "image/png": "[encoded data removed]",
      "text/plain": [
       "<matplotlib.figure.Figure at 0x7f1b5dc35ba8>"
      ]
     },
     "metadata": {},
     "output_type": "display_data"
    }
   ],
   "source": [
    "n, bins, patches = plt.hist(trialresult/q, 30, normed=1, facecolor='green', alpha=0.75)\n"
   ]
  },
  {
   "cell_type": "code",
   "execution_count": 108,
   "metadata": {},
   "outputs": [],
   "source": [
    "# planted partition\n",
    "gg = [None]*B\n",
    "dg = [None]*B\n",
    "for g in range(B):\n",
    "    gg[g] = np.where(node2Group ==g)[0] #node labels of node in group\n",
    "    dg[g] = din[gg[g]] # degree of nodes in group\n",
    "\n",
    "Group2node = dict(zip(range(B), gg)) \n",
    "    \n",
    "adj = np.zeros([N,N])\n",
    "win = 0.8\n",
    "wou = 0.1"
   ]
  },
  {
   "cell_type": "code",
   "execution_count": null,
   "metadata": {},
   "outputs": [],
   "source": []
  },
  {
   "cell_type": "code",
   "execution_count": null,
   "metadata": {},
   "outputs": [],
   "source": [
    "len(infected)"
   ]
  },
  {
   "cell_type": "code",
   "execution_count": null,
   "metadata": {},
   "outputs": [],
   "source": []
  },
  {
   "cell_type": "code",
   "execution_count": null,
   "metadata": {},
   "outputs": [],
   "source": []
  },
  {
   "cell_type": "code",
   "execution_count": null,
   "metadata": {},
   "outputs": [],
   "source": []
  }
 ],
 "metadata": {
  "kernelspec": {
   "display_name": "Python 3",
   "language": "python",
   "name": "python3"
  },
  "language_info": {
   "codemirror_mode": {
    "name": "ipython",
    "version": 3
   },
   "file_extension": ".py",
   "mimetype": "text/x-python",
   "name": "python",
   "nbconvert_exporter": "python",
   "pygments_lexer": "ipython3",
   "version": "3.5.2"
  }
 },
 "nbformat": 4,
 "nbformat_minor": 2
}
