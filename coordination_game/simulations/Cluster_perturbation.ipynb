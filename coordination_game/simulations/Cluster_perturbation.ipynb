{
 "cells": [
  {
   "cell_type": "code",
   "execution_count": 1,
   "metadata": {},
   "outputs": [],
   "source": [
    "import numpy as np\n",
    "import matplotlib.pyplot as plt\n",
    "import networkx as nx\n",
    "\n",
    "from multiprocessing import Pool"
   ]
  },
  {
   "cell_type": "code",
   "execution_count": 2,
   "metadata": {},
   "outputs": [],
   "source": [
    "def simulate(G, H, trialtime, threshG, threshH, N):    \n",
    "    results = np.zeros([trialtime])\n",
    "    #redun_connections= np.ones([trialtime])\n",
    "    #timetaken = np.zeros([trialtime])\n",
    "    nodeset = set(range(N))\n",
    "    infected = set()\n",
    "    for t in range(trialtime):\n",
    "\n",
    "        results[t] = len(infected)\n",
    "        if t> trialtime/2 :\n",
    "            if results[t] == results[t-1]:\n",
    "                results[range(t+1, trialtime)] = results[t]\n",
    "                break\n",
    "        \n",
    "        temphold = set()\n",
    "        \n",
    "        for node in nodeset-infected:\n",
    "            neighG = {n for n in G.neighbors(node)}\n",
    "            neighH = {n for n in H.neighbors(node)}\n",
    "\n",
    "            if len(infected.intersection(neighG)) > threshG[node]*len(neighG) and len(infected.intersection(neighH)) > threshH[node]*len(neighH):\n",
    "                temphold.update({node})\n",
    "        \n",
    "        infected.update(temphold)\n",
    "    return results\n"
   ]
  },
  {
   "cell_type": "code",
   "execution_count": 3,
   "metadata": {},
   "outputs": [],
   "source": [
    "def finalfraction(G, H, trialtime, threshG, threshH, N):    \n",
    "    nodeset = set(range(N))\n",
    "    prev = 0\n",
    "    infected = set()\n",
    "    for t in range(trialtime):\n",
    "        if t> trialtime/2 :\n",
    "            if len(infected) == prev:\n",
    "                break\n",
    "            else: \n",
    "                prev = len(infected)\n",
    "        \n",
    "        temphold = set()\n",
    "        \n",
    "        for node in nodeset-infected:\n",
    "            neighG = {n for n in G.neighbors(node)}\n",
    "            neighH = {n for n in H.neighbors(node)}\n",
    "\n",
    "            if len(infected.intersection(neighG)) > threshG[node]*len(neighG) and len(infected.intersection(neighH)) > threshH[node]*len(neighH):\n",
    "                temphold.update({node})\n",
    "        \n",
    "        infected.update(temphold)\n",
    "    \n",
    "    return len(infected)\n",
    "    "
   ]
  },
  {
   "cell_type": "code",
   "execution_count": 4,
   "metadata": {},
   "outputs": [],
   "source": [
    "def comm_network(G, n_swap, N):\n",
    "    H = G.copy()\n",
    "    H = nx.double_edge_swap(H, n_swap, max_tries=n_swap*N);\n",
    "    return H"
   ]
  },
  {
   "cell_type": "code",
   "execution_count": 6,
   "metadata": {},
   "outputs": [],
   "source": [
    "#This is maximum edge swap, uncorrelated degrees\n",
    "def go_edge(z):\n",
    "    finesse=21\n",
    "    N = 1000\n",
    "    p = z/N\n",
    "    trialnumber = 10\n",
    "    trialtime = 25\n",
    "    sigma = 0.2\n",
    "\n",
    "    G = nx.fast_gnp_random_graph(N, p, seed=None, directed=False)\n",
    "    H = comm_network(G, G.number_of_edges()+N, N)\n",
    "    results = np.zeros([finesse])\n",
    "    \n",
    "    for T in range(trialnumber):     \n",
    "        for n in range(finesse):\n",
    "            threshG = np.random.normal(n*0.4/finesse, sigma, N)\n",
    "            threshH = np.random.normal(n*0.4/finesse, sigma, N)\n",
    "            results[n] = results[n] + finalfraction(G, H, trialtime, threshG, threshH, N)\n",
    "    return results/N/trialnumber\n"
   ]
  },
  {
   "cell_type": "code",
   "execution_count": 5,
   "metadata": {},
   "outputs": [],
   "source": [
    "#This is maximum edge swap, uncorrelated degrees\n",
    "def go_node_pp(z):\n",
    "    finesse=21\n",
    "    C = 4 # number of communities\n",
    "    n = 2500 #number of vertices per community\n",
    "    N = n*C # total number of nodes\n",
    "    p_out = 0.5/(n*(C-1))\n",
    "    p_in = (z-1/2)/(n-1)\n",
    "    \n",
    "    trialnumber = 1\n",
    "    trialtime = 25\n",
    "    sigma = 0.2\n",
    "    results = np.zeros([finesse])\n",
    "    for T in range(trialnumber):\n",
    "        #G = nx.fast_gnp_random_graph(N, p, seed=None, directed=False)\n",
    "        #H = nx.fast_gnp_random_graph(N, p, seed=None, directed=False) \n",
    "        G = nx.planted_partition_graph(C, n, p_in, p_out)\n",
    "        H = nx.planted_partition_graph(C, n, p_in, p_out)\n",
    "        for n in range(finesse):\n",
    "            threshG = np.random.normal(n*0.4/finesse, sigma, N)\n",
    "            threshH = np.random.normal(n*0.4/finesse, sigma, N)\n",
    "            results[n] = results[n] + finalfraction(G, H, trialtime, threshG, threshH, N)\n",
    "    return results/N/trialnumber\n"
   ]
  },
  {
   "cell_type": "code",
   "execution_count": null,
   "metadata": {},
   "outputs": [],
   "source": [
    "infectionsize_node_pp = np.zeros([20, 21])\n",
    "for n in range(1,21):\n",
    "    z = n/2\n",
    "    pool= Pool(3)\n",
    "    results_node_pp = pool.map(go_node_pp, [z]*3)\n",
    "    infectionsize_node_pp[n-1] = np.asarray(sum(results_node_pp), dtype=float)/3"
   ]
  },
  {
   "cell_type": "code",
   "execution_count": 22,
   "metadata": {},
   "outputs": [],
   "source": [
    "trial_results = go_node_pp(10)\n"
   ]
  },
  {
   "cell_type": "code",
   "execution_count": 23,
   "metadata": {},
   "outputs": [
    {
     "data": {
      "text/plain": [
       "[<matplotlib.lines.Line2D at 0x7fc6fc8c1198>]"
      ]
     },
     "execution_count": 23,
     "metadata": {},
     "output_type": "execute_result"
    },
    {
     "data": {
      "image/png": "[encoded data removed]",
      "text/plain": [
       "<matplotlib.figure.Figure at 0x7fc6d02afa58>"
      ]
     },
     "metadata": {},
     "output_type": "display_data"
    }
   ],
   "source": [
    "plt.plot(np.arange(21)*0.4/20, trial_results)"
   ]
  },
  {
   "cell_type": "code",
   "execution_count": 17,
   "metadata": {},
   "outputs": [
    {
     "data": {
      "image/png": "[encoded data removed]",
      "text/plain": [
       "<matplotlib.figure.Figure at 0x7fc6fc833828>"
      ]
     },
     "metadata": {},
     "output_type": "display_data"
    }
   ],
   "source": [
    "for r in range(20):\n",
    "    plt.plot(infectionsize_node_pp[r])\n"
   ]
  },
  {
   "cell_type": "code",
   "execution_count": 21,
   "metadata": {},
   "outputs": [
    {
     "data": {
      "text/plain": [
       "[<matplotlib.lines.Line2D at 0x7f9451501400>]"
      ]
     },
     "execution_count": 21,
     "metadata": {},
     "output_type": "execute_result"
    },
    {
     "data": {
      "image/png": "[encoded data removed]",
      "text/plain": [
       "<matplotlib.figure.Figure at 0x7f9451599710>"
      ]
     },
     "metadata": {},
     "output_type": "display_data"
    }
   ],
   "source": [
    "plt.plot(np.arange(21)*0.4/20, infectionsize[4]*10)"
   ]
  },
  {
   "cell_type": "code",
   "execution_count": 20,
   "metadata": {},
   "outputs": [
    {
     "data": {
      "text/plain": [
       "[<matplotlib.lines.Line2D at 0x7faab9ebea58>]"
      ]
     },
     "execution_count": 20,
     "metadata": {},
     "output_type": "execute_result"
    },
    {
     "data": {
      "image/png": "[encoded data removed]",
      "text/plain": [
       "<matplotlib.figure.Figure at 0x7faab9ee2c50>"
      ]
     },
     "metadata": {},
     "output_type": "display_data"
    }
   ],
   "source": [
    "plt.plot(np.arange(20)*0.4/20, infectionsize)\n"
   ]
  },
  {
   "cell_type": "code",
   "execution_count": 22,
   "metadata": {},
   "outputs": [
    {
     "data": {
      "text/plain": [
       "array([  0. ,   0.5,   1. ,   1.5,   2. ,   2.5,   3. ,   3.5,   4. ,\n",
       "         4.5,   5. ,   5.5,   6. ,   6.5,   7. ,   7.5,   8. ,   8.5,\n",
       "         9. ,   9.5,  10. ])"
      ]
     },
     "execution_count": 22,
     "metadata": {},
     "output_type": "execute_result"
    }
   ],
   "source": [
    "np.linspace(0, 10, 21)"
   ]
  },
  {
   "cell_type": "code",
   "execution_count": 15,
   "metadata": {},
   "outputs": [
    {
     "data": {
      "image/png": "[encoded data removed]",
      "text/plain": [
       "<matplotlib.figure.Figure at 0x7fc6fbec0668>"
      ]
     },
     "metadata": {},
     "output_type": "display_data"
    }
   ],
   "source": [
    "fig, ax = plt.subplots(1,1)\n",
    "ax.imshow(((infectionsize_node_pp)[::-1])*10, interpolation='nearest', extent=[0,0.4, 0.5,10] )\n",
    "ax.set_aspect(1/25)\n",
    "plt.show()"
   ]
  },
  {
   "cell_type": "code",
   "execution_count": 1,
   "metadata": {},
   "outputs": [
    {
     "ename": "NameError",
     "evalue": "name 'infectionsize' is not defined",
     "output_type": "error",
     "traceback": [
      "\u001b[0;31m---------------------------------------------------------------------------\u001b[0m",
      "\u001b[0;31mNameError\u001b[0m                                 Traceback (most recent call last)",
      "\u001b[0;32m<ipython-input-1-1de0f7bc84e3>\u001b[0m in \u001b[0;36m<module>\u001b[0;34m()\u001b[0m\n\u001b[0;32m----> 1\u001b[0;31m \u001b[0minfectionsize\u001b[0m\u001b[0;34m\u001b[0m\u001b[0m\n\u001b[0m",
      "\u001b[0;31mNameError\u001b[0m: name 'infectionsize' is not defined"
     ]
    }
   ],
   "source": [
    "infectionsize"
   ]
  },
  {
   "cell_type": "code",
   "execution_count": 36,
   "metadata": {},
   "outputs": [],
   "source": [
    "infectionsize_edge.astype('float32').tofile('edge_swap_sim.dat')"
   ]
  },
  {
   "cell_type": "code",
   "execution_count": 7,
   "metadata": {},
   "outputs": [],
   "source": [
    "#infectionsize = np.fromfile('node_swap_sim.dat', dtype='float')"
   ]
  },
  {
   "cell_type": "code",
   "execution_count": 8,
   "metadata": {},
   "outputs": [
    {
     "data": {
      "text/plain": [
       "array([  0.00000000e+00,   0.00000000e+00,   0.00000000e+00,\n",
       "         0.00000000e+00,   0.00000000e+00,   0.00000000e+00,\n",
       "         0.00000000e+00,   0.00000000e+00,   0.00000000e+00,\n",
       "         0.00000000e+00,   2.65329859e-13,   1.65528024e-14,\n",
       "         7.15990275e-16,   1.37704677e-17,   1.29236965e-19,\n",
       "         1.31911254e-21,   5.15278337e-24,   9.46777442e-27,\n",
       "         1.38994386e-28,   1.71393210e-31,   2.61525284e-36,\n",
       "         1.75833680e-09,   9.20146871e-11,   3.55745857e-12,\n",
       "         1.74016650e-14,   1.56615464e-16,   3.06329008e-18,\n",
       "         1.05782004e-20,   1.55910543e-22,   4.96087893e-25,\n",
       "         2.96621759e-28,   2.99580865e-06,   4.88535645e-07,\n",
       "         1.25368462e-08,   9.97136397e-11,   2.13367436e-13,\n",
       "         1.24108135e-15,   4.55191614e-18,   6.36426700e-21,\n",
       "         6.50803694e-24,   1.30694559e-26,   1.71393210e-31,\n",
       "         1.17643227e-04,   5.76985839e-05,   2.68656412e-06,\n",
       "         3.22610215e-10,   8.13209847e-13,   3.31302409e-15,\n",
       "         3.95979709e-18,   8.72782972e-21,   6.58427100e-23,\n",
       "         4.17381753e-27,   9.22916562e-04,   8.36197868e-04,\n",
       "         6.08593806e-04,   2.89843708e-04,   1.75635084e-09,\n",
       "         1.41578073e-13,   1.14930326e-16,   2.06952549e-19,\n",
       "         4.18095418e-22,   2.28963571e-25,   3.00903257e-29,\n",
       "         2.30416702e-03,   2.06458428e-03,   1.86250009e-03,\n",
       "         1.52135477e-03,   1.17619891e-09,   4.83396483e-14,\n",
       "         3.97163753e-17,   1.07032427e-19,   1.84822586e-22,\n",
       "         1.89644945e-25,   3.76770874e-03,   3.72187467e-03,\n",
       "         3.57291707e-03,   3.49270971e-03,   3.25312512e-03,\n",
       "         3.18493018e-12,   3.94351274e-16,   7.45006107e-19,\n",
       "         1.20346478e-21,   1.29437262e-24,   4.38766619e-29,\n",
       "         5.21458405e-03,   5.15208486e-03,   5.08333462e-03,\n",
       "         4.91666886e-03,   4.77708596e-03,   1.01438998e-13,\n",
       "         4.87166033e-17,   1.58842897e-19,   4.18095418e-22,\n",
       "         7.59351705e-26,   6.49791668e-03,   6.51458371e-03,\n",
       "         6.49999920e-03,   6.45416695e-03,   6.38958532e-03,\n",
       "         5.30077717e-11,   7.23569526e-16,   7.74612142e-19,\n",
       "         8.56519864e-22,   2.19787413e-24,   3.00903257e-29,\n",
       "         6.89166877e-03,   6.86875078e-03,   6.87500182e-03,\n",
       "         6.85208383e-03,   6.82291853e-03,   2.13367436e-13,\n",
       "         6.27646246e-17,   1.88448828e-19,   5.91567922e-22,\n",
       "         1.04941696e-25,   7.34166885e-03,   7.33750033e-03,\n",
       "         7.32500198e-03,   7.32083339e-03,   7.29375052e-03,\n",
       "         7.15007275e-10,   1.05918272e-15,   6.41385192e-19,\n",
       "         5.91567923e-22,   1.06849729e-24,   3.00903257e-29,\n",
       "         7.43750203e-03,   7.42291752e-03,   7.42083508e-03,\n",
       "         7.41250160e-03,   7.41250160e-03,   6.07542768e-13,\n",
       "         1.22509471e-16,   1.66244406e-19,   5.62655778e-22,\n",
       "         9.00524280e-26,   7.63750161e-03,   7.63750169e-03,\n",
       "         7.63750169e-03,   7.63750169e-03,   7.62708578e-03,\n",
       "         5.04557465e-05,   1.22592369e-15,   4.26510710e-19,\n",
       "         1.55040969e-21,   1.97199959e-24,   3.00903257e-29,\n",
       "         7.69166741e-03,   7.68958497e-03,   7.68958497e-03,\n",
       "         7.68958497e-03,   7.68750253e-03,   2.36226240e-13,\n",
       "         1.13035513e-16,   1.40339177e-19,   6.20480065e-22,\n",
       "         1.04941696e-25,   7.73958574e-03,   7.74166825e-03,\n",
       "         7.74166825e-03,   7.73958582e-03,   7.73541722e-03,\n",
       "         1.26979151e-03,   9.07600241e-16,   6.56188002e-19,\n",
       "         7.65040379e-22,   1.29437262e-24,   4.38766619e-29,\n",
       "         7.76666868e-03,   7.76666868e-03,   7.76666868e-03,\n",
       "         7.76666868e-03,   7.76666868e-03,   7.66643366e-13,\n",
       "         8.07650276e-17,   2.71079543e-19,   6.49392209e-22,\n",
       "         2.28963570e-25,   7.79166902e-03,   7.79166910e-03,\n",
       "         7.79166910e-03,   7.79166910e-03,   7.78541806e-03,\n",
       "         7.77291599e-03,   1.27139835e-15,   6.26582381e-19,\n",
       "         8.56519864e-22,   1.29437262e-24,   3.00903257e-29,\n",
       "         7.79583398e-03,   7.79583398e-03,   7.79583398e-03,\n",
       "         7.79583398e-03,   7.79583398e-03,   2.94433802e-13,\n",
       "         7.12911229e-17,   1.36638371e-19,   4.18095418e-22,\n",
       "         9.00524280e-26,   7.80208493e-03,   7.80208501e-03,\n",
       "         7.80208501e-03,   7.80208501e-03,   7.79583398e-03,\n",
       "         7.29791912e-03,   7.91781513e-16,   7.74612142e-19,\n",
       "         8.22864262e-22,   1.97199959e-24,   3.00903257e-29,\n",
       "         7.80208501e-03,   7.80208501e-03,   7.80208501e-03,\n",
       "         7.80208501e-03,   7.80208501e-03,   2.03666212e-13,\n",
       "         6.37120309e-17,   1.14433948e-19,   5.62655778e-22,\n",
       "         1.04941696e-25])"
      ]
     },
     "execution_count": 8,
     "metadata": {},
     "output_type": "execute_result"
    }
   ],
   "source": [
    "infectionsize"
   ]
  },
  {
   "cell_type": "code",
   "execution_count": 29,
   "metadata": {},
   "outputs": [
    {
     "data": {
      "text/plain": [
       "20"
      ]
     },
     "execution_count": 29,
     "metadata": {},
     "output_type": "execute_result"
    }
   ],
   "source": [
    "len(range(1,21))"
   ]
  },
  {
   "cell_type": "code",
   "execution_count": null,
   "metadata": {},
   "outputs": [],
   "source": []
  }
 ],
 "metadata": {
  "kernelspec": {
   "display_name": "Python 3",
   "language": "python",
   "name": "python3"
  },
  "language_info": {
   "codemirror_mode": {
    "name": "ipython",
    "version": 3
   },
   "file_extension": ".py",
   "mimetype": "text/x-python",
   "name": "python",
   "nbconvert_exporter": "python",
   "pygments_lexer": "ipython3",
   "version": "3.5.2"
  }
 },
 "nbformat": 4,
 "nbformat_minor": 2
}
