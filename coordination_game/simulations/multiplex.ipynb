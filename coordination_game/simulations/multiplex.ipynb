{
 "cells": [
  {
   "cell_type": "code",
   "execution_count": 1,
   "metadata": {},
   "outputs": [],
   "source": [
    "%matplotlib inline\n",
    "\n",
    "import networkx as nx\n",
    "import numpy as np\n",
    "import copy\n",
    "import matplotlib\n",
    "import matplotlib.pyplot as plt"
   ]
  },
  {
   "cell_type": "code",
   "execution_count": 2,
   "metadata": {},
   "outputs": [],
   "source": [
    "def powerlaw(D, lamb, p0):\n",
    "    x = np.arange(1,D)\n",
    "    x = np.asarray(x, dtype=float)\n",
    "    x = x**(-lamb)\n",
    "    x = x/x.sum(axis=0)*(1-p0)\n",
    "    x = np.insert(x, 0, p0, axis=0)\n",
    "    return x"
   ]
  },
  {
   "cell_type": "code",
   "execution_count": 241,
   "metadata": {},
   "outputs": [],
   "source": [
    "N = 50 #number of nodes"
   ]
  },
  {
   "cell_type": "code",
   "execution_count": 242,
   "metadata": {},
   "outputs": [],
   "source": [
    "D = N-1 #maximum degree\n",
    "lamb = 2\n",
    "\n",
    "\n",
    "degree_seq = np.random.choice(np.arange(D), N, replace=True, p=powerlaw(D,lamb, 0.0))\n",
    "Gfull=nx.configuration_model(list(degree_seq))\n",
    "G=nx.Graph(Gfull)\n",
    "G.remove_edges_from(G.selfloop_edges())"
   ]
  },
  {
   "cell_type": "code",
   "execution_count": null,
   "metadata": {},
   "outputs": [],
   "source": [
    "p = 0.1\n",
    "G = nx.erdos_renyi_graph(N, p)"
   ]
  },
  {
   "cell_type": "code",
   "execution_count": 209,
   "metadata": {},
   "outputs": [],
   "source": [
    "M=10\n",
    "G = nx.random_partition_graph([int(N/M)]*M,1,0.05)"
   ]
  },
  {
   "cell_type": "code",
   "execution_count": 244,
   "metadata": {},
   "outputs": [
    {
     "data": {
      "image/png": "[encoded data removed]",
      "text/plain": [
       "<matplotlib.figure.Figure at 0x7f3d520d7e10>"
      ]
     },
     "metadata": {},
     "output_type": "display_data"
    }
   ],
   "source": [
    "pos= nx.spring_layout(G)\n",
    "nx.draw(G, pos=pos, node_size =10)"
   ]
  },
  {
   "cell_type": "code",
   "execution_count": null,
   "metadata": {},
   "outputs": [],
   "source": []
  },
  {
   "cell_type": "code",
   "execution_count": 255,
   "metadata": {},
   "outputs": [],
   "source": [
    "def simulate(G, p_remove, p_add, trialtime, thresh, infected):\n",
    "    H = G.copy()\n",
    "    #count_remove = 0\n",
    "    #count_add = 0\n",
    "    for e in G.edges():\n",
    "        test = np.random.uniform(low=0.0, high=1.0, size=None)\n",
    "        if test < p_remove:\n",
    "            H.remove_edge(e[0], e[1])\n",
    "            #count_remove = count_remove + 1\n",
    "\n",
    "    for n in range(N-1):\n",
    "        for n2 in range(n+1, N):\n",
    "            test = np.random.uniform(low=0.0, high=1.0, size=None)\n",
    "            if test < p_add:\n",
    "                H.add_edge(n,n2)\n",
    "                #if not G.has_edge(n, n2):\n",
    "                    #count_add = count_add + 1\n",
    "    \n",
    "    results = np.zeros([trialtime])\n",
    "    redun_connections= np.ones([trialtime])\n",
    "    timetaken = np.zeros([trialtime])\n",
    "    \n",
    "    for t in range(trialtime):\n",
    "        aware = set([])\n",
    "        results[t] = len(infected)\n",
    "        for node in infected:\n",
    "            aware.update({n for n in H.neighbors(node)})\n",
    "        temp = aware - infected\n",
    "        temp_infect = copy.deepcopy(infected)\n",
    "\n",
    "        for node in temp:\n",
    "            neighH = {n for n in H.neighbors(node)}\n",
    "            neighG = {n for n in G.neighbors(node)}\n",
    "            timetaken[t] = max(len(neighH), timetaken[t])\n",
    "            redun_connections[t] = len(neighH - neighH.intersection(neighG))\n",
    "            neighset = neighG\n",
    "\n",
    "            if len(temp_infect.intersection(neighset)) >= thresh*len(neighset) :\n",
    "                infected.update({node})\n",
    "                \n",
    "    #time = np.cumsum(timetaken)\n",
    "    #time = np.insert(time[range(trialtime-1)], 0, 0)\n",
    "    \n",
    "    return results, timetaken, redun_connections\n",
    "    "
   ]
  },
  {
   "cell_type": "code",
   "execution_count": 254,
   "metadata": {},
   "outputs": [],
   "source": [
    "def simulate_swap(G, n_swap, trialtime, thresh, infected):\n",
    "    H = G.copy()\n",
    "    nx.double_edge_swap(G, n_swap, max_tries=n_swap**2);\n",
    "    results = np.zeros([trialtime])\n",
    "    redun_connections= np.ones([trialtime])\n",
    "    timetaken = np.zeros([trialtime])\n",
    "    \n",
    "    for t in range(trialtime):\n",
    "        aware = set([])\n",
    "        results[t] = len(infected)\n",
    "        for node in infected:\n",
    "            aware.update({n for n in H.neighbors(node)})\n",
    "        temp = aware - infected\n",
    "        temp_infect = copy.deepcopy(infected)\n",
    "\n",
    "        for node in temp:\n",
    "            neighH = {n for n in H.neighbors(node)}\n",
    "            neighG = {n for n in G.neighbors(node)}\n",
    "            timetaken[t] = max(len(neighH), timetaken[t])\n",
    "            redun_connections[t] = len(neighH - neighH.intersection(neighG))\n",
    "            neighset = neighG\n",
    "\n",
    "            if len(temp_infect.intersection(neighset)) >= thresh*len(neighset) :\n",
    "                infected.update({node})\n",
    "                \n",
    "    #time = np.cumsum(timetaken)\n",
    "    #time = np.insert(time[range(trialtime-1)], 0, 0)\n",
    "    \n",
    "    return results, timetaken, redun_connections\n",
    "    "
   ]
  },
  {
   "cell_type": "code",
   "execution_count": 274,
   "metadata": {},
   "outputs": [],
   "source": [
    "trialtime = 10\n",
    "initial_infection = 0.4\n",
    "thresh = 0.5\n",
    "#p_remove = 0\n",
    "p_add = 0\n",
    "finesse = 10\n",
    "trialnumber = 100\n",
    "window = range(50)\n",
    "results = np.zeros([finesse,trialtime])\n",
    "times = np.zeros([finesse, trialtime])\n",
    "max_nswap = N\n",
    "\n",
    "for T in range(trialnumber):\n",
    "    infected = set(np.random.choice([n for n in G.nodes()], int(N*initial_infection)))\n",
    "    #print(infected)\n",
    "    window = range(10)\n",
    "    '''\n",
    "    R = simulate(G, p_remove, p_add, trialtime, thresh, copy.deepcopy(infected))\n",
    "    plt.plot(R[1][window], R[0][window], 'b+')\n",
    "\n",
    "\n",
    "    '''\n",
    "\n",
    "    for i in range(finesse):\n",
    "     \n",
    "        p_remove = 1\n",
    "        p_add = float((i)/(finesse))\n",
    "        #print(p_remove)\n",
    "        R = simulate(G, p_remove, p_add, trialtime, thresh, copy.deepcopy(infected))\n",
    "        '''\n",
    "        n_swap = i*N\n",
    "        R = simulate_swap(G, n_swap, trialtime, thresh, copy.deepcopy(infected))\n",
    "           '''\n",
    "        results[i]= R[0] + results[i]\n",
    "        times[i] = R[1] + times[i]\n",
    "\n",
    "        #plt.plot(out[1][window], out[0][window])"
   ]
  },
  {
   "cell_type": "code",
   "execution_count": 279,
   "metadata": {},
   "outputs": [
    {
     "ename": "IndexError",
     "evalue": "index 10 is out of bounds for axis 0 with size 10",
     "output_type": "error",
     "traceback": [
      "\u001b[0;31m---------------------------------------------------------------------------\u001b[0m",
      "\u001b[0;31mIndexError\u001b[0m                                Traceback (most recent call last)",
      "\u001b[0;32m<ipython-input-279-ee1e2eae9b94>\u001b[0m in \u001b[0;36m<module>\u001b[0;34m()\u001b[0m\n\u001b[1;32m      2\u001b[0m \u001b[0;34m\u001b[0m\u001b[0m\n\u001b[1;32m      3\u001b[0m \u001b[0;32mfor\u001b[0m \u001b[0mi\u001b[0m \u001b[0;32min\u001b[0m \u001b[0mrange\u001b[0m\u001b[0;34m(\u001b[0m\u001b[0;36m19\u001b[0m\u001b[0;34m)\u001b[0m\u001b[0;34m:\u001b[0m\u001b[0;34m\u001b[0m\u001b[0m\n\u001b[0;32m----> 4\u001b[0;31m     \u001b[0mtimer\u001b[0m \u001b[0;34m=\u001b[0m \u001b[0mnp\u001b[0m\u001b[0;34m.\u001b[0m\u001b[0mcumsum\u001b[0m\u001b[0;34m(\u001b[0m\u001b[0mtimes\u001b[0m\u001b[0;34m[\u001b[0m\u001b[0mi\u001b[0m\u001b[0;34m]\u001b[0m\u001b[0;34m[\u001b[0m\u001b[0mw\u001b[0m\u001b[0;34m]\u001b[0m\u001b[0;34m)\u001b[0m\u001b[0;34m/\u001b[0m\u001b[0mtrialnumber\u001b[0m\u001b[0;34m\u001b[0m\u001b[0m\n\u001b[0m\u001b[1;32m      5\u001b[0m     \u001b[0mtimer\u001b[0m \u001b[0;34m=\u001b[0m \u001b[0mnp\u001b[0m\u001b[0;34m.\u001b[0m\u001b[0minsert\u001b[0m\u001b[0;34m(\u001b[0m\u001b[0mtimer\u001b[0m\u001b[0;34m[\u001b[0m\u001b[0mrange\u001b[0m\u001b[0;34m(\u001b[0m\u001b[0;36m1\u001b[0m\u001b[0;34m,\u001b[0m\u001b[0;36m10\u001b[0m\u001b[0;34m)\u001b[0m\u001b[0;34m]\u001b[0m\u001b[0;34m,\u001b[0m \u001b[0;36m0\u001b[0m\u001b[0;34m,\u001b[0m \u001b[0;36m0\u001b[0m\u001b[0;34m)\u001b[0m\u001b[0;34m\u001b[0m\u001b[0m\n\u001b[1;32m      6\u001b[0m     \u001b[0;31m#plt.plot(timer, results[i][w]/N/trialnumber)\u001b[0m\u001b[0;34m\u001b[0m\u001b[0;34m\u001b[0m\u001b[0m\n",
      "\u001b[0;31mIndexError\u001b[0m: index 10 is out of bounds for axis 0 with size 10"
     ]
    },
    {
     "data": {
      "image/png": "[encoded data removed]",
      "text/plain": [
       "<matplotlib.figure.Figure at 0x7f3d52de9eb8>"
      ]
     },
     "metadata": {},
     "output_type": "display_data"
    }
   ],
   "source": [
    "w= range(10)\n",
    "\n",
    "for i in range(19):\n",
    "    timer = np.cumsum(times[i][w])/trialnumber\n",
    "    timer = np.insert(timer[range(1,10)], 0, 0)\n",
    "    #plt.plot(timer, results[i][w]/N/trialnumber)\n",
    "    plt.plot(results[i][w]/N/trialnumber, '-')\n",
    "    #if results[i][trialtime-1] <N:\n",
    "        #print(i)\n",
    "#plt.plot(times[2], results[2], 'r+')\n",
    "#infected"
   ]
  },
  {
   "cell_type": "code",
   "execution_count": 266,
   "metadata": {},
   "outputs": [
    {
     "data": {
      "text/plain": [
       "[<matplotlib.lines.Line2D at 0x7f3d53049dd8>]"
      ]
     },
     "execution_count": 266,
     "metadata": {},
     "output_type": "execute_result"
    },
    {
     "data": {
      "image/png": "[encoded data removed]",
      "text/plain": [
       "<matplotlib.figure.Figure at 0x7f3d5201a390>"
      ]
     },
     "metadata": {},
     "output_type": "display_data"
    }
   ],
   "source": [
    "window = range(15)\n",
    "plt.plot(times[0][range(10)]/trialnumber, results[i][range(10)]/trialnumber )\n",
    "#plt.plot(times[finesse-1][window]/trialnumber, results[finesse-1][window]/trialnumber/n)"
   ]
  },
  {
   "cell_type": "code",
   "execution_count": 269,
   "metadata": {},
   "outputs": [
    {
     "data": {
      "text/plain": [
       "[<matplotlib.lines.Line2D at 0x7f3d4f670198>]"
      ]
     },
     "execution_count": 269,
     "metadata": {},
     "output_type": "execute_result"
    },
    {
     "data": {
      "image/png": "[encoded data removed]",
      "text/plain": [
       "<matplotlib.figure.Figure at 0x7f3d4f682828>"
      ]
     },
     "metadata": {},
     "output_type": "display_data"
    }
   ],
   "source": [
    "flip = times.T\n",
    "plt.plot(flip[1])"
   ]
  },
  {
   "cell_type": "code",
   "execution_count": 253,
   "metadata": {},
   "outputs": [
    {
     "data": {
      "text/plain": [
       "array([[ 246.,  246.,  196.,  214.,  232.,  221.,  224.,  216.,  195.,\n",
       "         220.],\n",
       "       [ 154.,  173.,  169.,  169.,  172.,  166.,  190.,  190.,  185.,\n",
       "         173.],\n",
       "       [ 107.,  124.,  122.,  129.,  126.,  121.,  129.,  127.,  128.,\n",
       "         129.],\n",
       "       [  46.,  104.,  112.,  107.,  104.,   98.,  108.,  104.,  104.,\n",
       "         102.],\n",
       "       [   9.,  100.,  104.,  103.,  101.,   96.,  107.,  102.,  105.,\n",
       "          95.],\n",
       "       [   1.,  101.,  102.,  100.,  100.,   95.,  105.,   96.,  101.,\n",
       "          95.],\n",
       "       [   0.,  101.,  102.,  100.,  100.,   95.,  105.,   95.,  101.,\n",
       "          95.],\n",
       "       [   0.,  101.,  102.,  100.,  100.,   95.,  105.,   95.,  101.,\n",
       "          95.],\n",
       "       [   0.,  101.,  102.,  100.,  100.,   95.,  105.,   95.,  101.,\n",
       "          95.],\n",
       "       [   0.,  101.,  102.,  100.,  100.,   95.,  105.,   95.,  101.,\n",
       "          95.]])"
      ]
     },
     "execution_count": 253,
     "metadata": {},
     "output_type": "execute_result"
    }
   ],
   "source": [
    "flip"
   ]
  },
  {
   "cell_type": "code",
   "execution_count": null,
   "metadata": {},
   "outputs": [],
   "source": [
    "nx.draw(H, pos=pos, node_size=10)\n",
    "print(nx.is_connected(H))"
   ]
  },
  {
   "cell_type": "code",
   "execution_count": null,
   "metadata": {},
   "outputs": [],
   "source": [
    "print(count_add)\n",
    "print(count_remove)"
   ]
  },
  {
   "cell_type": "code",
   "execution_count": null,
   "metadata": {},
   "outputs": [],
   "source": [
    "len(G.nodes())"
   ]
  },
  {
   "cell_type": "code",
   "execution_count": null,
   "metadata": {},
   "outputs": [],
   "source": [
    "aware = set([])\n",
    "thresh = 0.4\n",
    "initial_infection = 0.5\n",
    "infected = set(np.random.choice([n for n in G.nodes()], int(N*initial_infection)))\n",
    "trialtime = N\n"
   ]
  },
  {
   "cell_type": "code",
   "execution_count": null,
   "metadata": {},
   "outputs": [],
   "source": [
    "len(infected)"
   ]
  },
  {
   "cell_type": "code",
   "execution_count": null,
   "metadata": {},
   "outputs": [],
   "source": [
    "results = np.zeros([trialtime])\n",
    "redun_connections= np.ones([trialtime])\n",
    "error_connections = np.zeros([trialtime])\n",
    "\n",
    "for t in range(trialtime):\n",
    "    results[t] = len(infected)\n",
    "    for node in infected:\n",
    "        aware.update({n for n in H.neighbors(node)})\n",
    "    temp = aware - infected\n",
    "    temp_infect = copy.deepcopy(infected)\n",
    "    \n",
    "    for node in temp:\n",
    "        neighH = {n for n in H.neighbors(node)}\n",
    "        neighG = {n for n in G.neighbors(node)}\n",
    "        redun_connections[t] = max(redun_connections[t], len(neighH - neighH.intersection(neighG)))\n",
    "        neighset = neighG\n",
    "        \n",
    "        if len(temp_infect.intersection(neighset)) >= thresh*len(neighset) :\n",
    "            infected.update({node})\n",
    "          "
   ]
  },
  {
   "cell_type": "code",
   "execution_count": null,
   "metadata": {},
   "outputs": [],
   "source": [
    "time = np.cumsum(redun_connections)\n",
    "np.insert(time, 0, 0)"
   ]
  },
  {
   "cell_type": "code",
   "execution_count": null,
   "metadata": {},
   "outputs": [],
   "source": [
    "window = range(1,trialtime)\n",
    "plt.plot(time[window],results[window]/N, 'b-')\n",
    "plt.ylim(0,1)"
   ]
  },
  {
   "cell_type": "code",
   "execution_count": null,
   "metadata": {},
   "outputs": [],
   "source": [
    "0.24*50"
   ]
  },
  {
   "cell_type": "code",
   "execution_count": null,
   "metadata": {},
   "outputs": [],
   "source": []
  },
  {
   "cell_type": "code",
   "execution_count": null,
   "metadata": {},
   "outputs": [],
   "source": []
  }
 ],
 "metadata": {
  "kernelspec": {
   "display_name": "Python 3",
   "language": "python",
   "name": "python3"
  },
  "language_info": {
   "codemirror_mode": {
    "name": "ipython",
    "version": 3
   },
   "file_extension": ".py",
   "mimetype": "text/x-python",
   "name": "python",
   "nbconvert_exporter": "python",
   "pygments_lexer": "ipython3",
   "version": "3.5.2"
  }
 },
 "nbformat": 4,
 "nbformat_minor": 2
}
