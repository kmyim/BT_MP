{
 "cells": [
  {
   "cell_type": "code",
   "execution_count": 3,
   "metadata": {},
   "outputs": [],
   "source": [
    "%matplotlib inline\n",
    "\n",
    "import networkx as nx\n",
    "import numpy as np\n",
    "import copy\n",
    "import matplotlib\n",
    "import matplotlib.pyplot as plt\n",
    "\n",
    "from multiprocessing import Pool"
   ]
  },
  {
   "cell_type": "code",
   "execution_count": 2,
   "metadata": {},
   "outputs": [],
   "source": [
    "def simulate(G, H, trialtime, thresh, p_transmit, infected):    \n",
    "    results = np.zeros([trialtime])\n",
    "    #redun_connections= np.ones([trialtime])\n",
    "    #timetaken = np.zeros([trialtime])\n",
    "    \n",
    "    for t in range(trialtime):\n",
    "        aware = set([])\n",
    "        results[t] = len(infected)\n",
    "        for node in infected:\n",
    "            if np.random.uniform(low=0.0, high=1.0, size=None) < p_transmit:\n",
    "                aware.update({n for n in H.neighbors(node)})\n",
    "        temp = copy.deepcopy(aware)\n",
    "        temp_infect = copy.deepcopy(infected)\n",
    "\n",
    "        for node in temp:\n",
    "            neighH = {n for n in H.neighbors(node)}\n",
    "            neighG = {n for n in G.neighbors(node)}\n",
    "            #timetaken[t] = max(len(neighH), timetaken[t])\n",
    "            #redun_connections[t] = len(neighH - neighH.intersection(neighG))\n",
    "            neighset = neighG\n",
    "\n",
    "            if len(temp_infect.intersection(neighset)) >= thresh*len(neighset) :\n",
    "                infected.update({node})\n",
    "            else: \n",
    "                infected = infected-{node}\n",
    "    #time = np.cumsum(timetaken)\n",
    "    #time = np.insert(time[range(trialtime-1)], 0, 0)\n",
    "    \n",
    "    #return results, timetaken, redun_connections\n",
    "    return results\n",
    "    "
   ]
  },
  {
   "cell_type": "code",
   "execution_count": 3,
   "metadata": {},
   "outputs": [],
   "source": [
    "def comm_network(G, n_swap):\n",
    "    H = G.copy()\n",
    "    H = nx.double_edge_swap(H, n_swap, max_tries=n_swap*len(G));\n",
    "    return H"
   ]
  },
  {
   "cell_type": "code",
   "execution_count": null,
   "metadata": {},
   "outputs": [],
   "source": []
  },
  {
   "cell_type": "code",
   "execution_count": 4,
   "metadata": {},
   "outputs": [],
   "source": [
    "def powerlaw(D, lamb, p0):\n",
    "    x = np.arange(1,D)\n",
    "    x = np.asarray(x, dtype=float)\n",
    "    x = x**(-lamb)\n",
    "    x = x/x.sum(axis=0)*(1-p0)\n",
    "    x = np.insert(x, 0, p0, axis=0)\n",
    "    return x"
   ]
  },
  {
   "cell_type": "code",
   "execution_count": 71,
   "metadata": {},
   "outputs": [],
   "source": [
    "N = 100\n",
    "D = N-1 #maximum degree\n",
    "lamb = 1.9\n",
    "\n",
    "\n",
    "degree_seq = np.random.choice(np.arange(D), N, replace=True, p=powerlaw(D,lamb, 0.0))\n",
    "Gfull=nx.configuration_model(list(degree_seq))\n",
    "G=nx.Graph(Gfull)\n",
    "G.remove_edges_from(G.selfloop_edges())\n"
   ]
  },
  {
   "cell_type": "code",
   "execution_count": 72,
   "metadata": {},
   "outputs": [],
   "source": [
    "S = np.sum(degree_seq)"
   ]
  },
  {
   "cell_type": "code",
   "execution_count": 74,
   "metadata": {},
   "outputs": [
    {
     "data": {
      "image/png": "[encoded data removed]",
      "text/plain": [
       "<matplotlib.figure.Figure at 0x7f346c101ba8>"
      ]
     },
     "metadata": {},
     "output_type": "display_data"
    }
   ],
   "source": [
    "pos = nx.spring_layout(G)\n",
    "nx.draw(G, pos=pos, node_size=10)"
   ]
  },
  {
   "cell_type": "code",
   "execution_count": 35,
   "metadata": {},
   "outputs": [],
   "source": [
    "def go(trialnumber, max_nswap):\n",
    "    trialtime = 10\n",
    "    initial_infection = 0.3\n",
    "    thresh = 0.3\n",
    "    p_transmit = 1\n",
    "\n",
    "    #trialnumber = 1000\n",
    "\n",
    "#    times = np.zeros([finesse, trialtime])\n",
    "    finesse = max_nswap\n",
    "    results_finegrain = np.zeros([finesse,trialtime])\n",
    "    for T in range(trialnumber):\n",
    "        infected = set(np.random.choice([n for n in G.nodes()], int(len(G)*initial_infection)))\n",
    "\n",
    "        for i in range(finesse):\n",
    "\n",
    "            n_swap = int(float((i)/(finesse))*max_nswap)\n",
    "            #n_swap = i\n",
    "            H = comm_network(G, n_swap)\n",
    "            #H = nx.connected_watts_strogatz_graph(N, , 1, tries=100, seed=None)\n",
    "            #H = nx.erdos_renyi_graph(N, 1.74/N)\n",
    "            #H = G\n",
    "            R = simulate(G, H, trialtime, thresh, p_transmit, copy.deepcopy(infected))\n",
    "            results_finegrain[i] = R + results_finegrain[i]\n",
    "            #results[i]= R[0] + results[i]\n",
    "            #times[i] = R[1] + times[i]\n",
    "\n",
    "            #plt.plot(out[1][window], out[0][window])\n",
    "    return results_finegrain/trialnumber/len(G)\n"
   ]
  },
  {
   "cell_type": "code",
   "execution_count": 36,
   "metadata": {},
   "outputs": [],
   "source": [
    "def Go(trialnumber):\n",
    "    return go(trialnumber, int(S*1.5))"
   ]
  },
  {
   "cell_type": "code",
   "execution_count": 75,
   "metadata": {},
   "outputs": [
    {
     "name": "stderr",
     "output_type": "stream",
     "text": [
      "Process ForkPoolWorker-16:\n",
      "Process ForkPoolWorker-13:\n",
      "Process ForkPoolWorker-14:\n",
      "Traceback (most recent call last):\n",
      "Traceback (most recent call last):\n",
      "Process ForkPoolWorker-15:\n",
      "  File \"/usr/lib/python3.5/multiprocessing/process.py\", line 249, in _bootstrap\n",
      "    self.run()\n",
      "  File \"/usr/lib/python3.5/multiprocessing/process.py\", line 249, in _bootstrap\n",
      "    self.run()\n",
      "Traceback (most recent call last):\n",
      "Traceback (most recent call last):\n",
      "  File \"/usr/lib/python3.5/multiprocessing/process.py\", line 249, in _bootstrap\n",
      "    self.run()\n",
      "  File \"/usr/lib/python3.5/multiprocessing/process.py\", line 93, in run\n",
      "    self._target(*self._args, **self._kwargs)\n",
      "  File \"/usr/lib/python3.5/multiprocessing/process.py\", line 93, in run\n",
      "    self._target(*self._args, **self._kwargs)\n",
      "  File \"/usr/lib/python3.5/multiprocessing/pool.py\", line 108, in worker\n",
      "    task = get()\n",
      "  File \"/usr/lib/python3.5/multiprocessing/process.py\", line 249, in _bootstrap\n",
      "    self.run()\n",
      "  File \"/usr/lib/python3.5/multiprocessing/queues.py\", line 342, in get\n",
      "    with self._rlock:\n",
      "  File \"/usr/lib/python3.5/multiprocessing/pool.py\", line 108, in worker\n",
      "    task = get()\n",
      "  File \"/usr/lib/python3.5/multiprocessing/process.py\", line 93, in run\n",
      "    self._target(*self._args, **self._kwargs)\n",
      "  File \"/usr/lib/python3.5/multiprocessing/synchronize.py\", line 96, in __enter__\n",
      "    return self._semlock.__enter__()\n",
      "  File \"/usr/lib/python3.5/multiprocessing/process.py\", line 93, in run\n",
      "    self._target(*self._args, **self._kwargs)\n",
      "  File \"/usr/lib/python3.5/multiprocessing/pool.py\", line 108, in worker\n",
      "    task = get()\n",
      "  File \"/usr/lib/python3.5/multiprocessing/pool.py\", line 108, in worker\n",
      "    task = get()\n",
      "  File \"/usr/lib/python3.5/multiprocessing/queues.py\", line 342, in get\n",
      "    with self._rlock:\n",
      "  File \"/usr/lib/python3.5/multiprocessing/queues.py\", line 342, in get\n",
      "    with self._rlock:\n",
      "  File \"/usr/lib/python3.5/multiprocessing/queues.py\", line 343, in get\n",
      "    res = self._reader.recv_bytes()\n",
      "  File \"/usr/lib/python3.5/multiprocessing/synchronize.py\", line 96, in __enter__\n",
      "    return self._semlock.__enter__()\n",
      "KeyboardInterrupt\n",
      "KeyboardInterrupt\n",
      "  File \"/usr/lib/python3.5/multiprocessing/synchronize.py\", line 96, in __enter__\n",
      "    return self._semlock.__enter__()\n",
      "  File \"/usr/lib/python3.5/multiprocessing/connection.py\", line 216, in recv_bytes\n",
      "    buf = self._recv_bytes(maxlength)\n",
      "KeyboardInterrupt\n",
      "  File \"/usr/lib/python3.5/multiprocessing/connection.py\", line 407, in _recv_bytes\n",
      "    buf = self._recv(4)\n",
      "  File \"/usr/lib/python3.5/multiprocessing/connection.py\", line 379, in _recv\n",
      "    chunk = read(handle, remaining)\n",
      "KeyboardInterrupt\n"
     ]
    }
   ],
   "source": [
    "pool= Pool()\n",
    "results = pool.map(Go, [250, 250, 250, 250])\n",
    "infectionsize = np.asarray(sum(results), dtype=float)/4"
   ]
  },
  {
   "cell_type": "code",
   "execution_count": 76,
   "metadata": {},
   "outputs": [
    {
     "ename": "NameError",
     "evalue": "name 'finesse' is not defined",
     "output_type": "error",
     "traceback": [
      "\u001b[0;31m---------------------------------------------------------------------------\u001b[0m",
      "\u001b[0;31mNameError\u001b[0m                                 Traceback (most recent call last)",
      "\u001b[0;32m<ipython-input-76-a2cfd166390b>\u001b[0m in \u001b[0;36m<module>\u001b[0;34m()\u001b[0m\n\u001b[1;32m      1\u001b[0m \u001b[0mw\u001b[0m\u001b[0;34m=\u001b[0m \u001b[0mrange\u001b[0m\u001b[0;34m(\u001b[0m\u001b[0;36m10\u001b[0m\u001b[0;34m)\u001b[0m\u001b[0;34m\u001b[0m\u001b[0m\n\u001b[1;32m      2\u001b[0m \u001b[0;34m\u001b[0m\u001b[0m\n\u001b[0;32m----> 3\u001b[0;31m \u001b[0;32mfor\u001b[0m \u001b[0mi\u001b[0m \u001b[0;32min\u001b[0m \u001b[0mrange\u001b[0m\u001b[0;34m(\u001b[0m\u001b[0;36m1\u001b[0m\u001b[0;34m,\u001b[0m\u001b[0mfinesse\u001b[0m\u001b[0;34m)\u001b[0m\u001b[0;34m:\u001b[0m\u001b[0;34m\u001b[0m\u001b[0m\n\u001b[0m\u001b[1;32m      4\u001b[0m     \u001b[0;31m#timer = np.cumsum(times[i][w])/trialnumber\u001b[0m\u001b[0;34m\u001b[0m\u001b[0;34m\u001b[0m\u001b[0m\n\u001b[1;32m      5\u001b[0m     \u001b[0;31m#timer = np.insert(timer[range(trialtime-1)], 0, 0)\u001b[0m\u001b[0;34m\u001b[0m\u001b[0;34m\u001b[0m\u001b[0m\n",
      "\u001b[0;31mNameError\u001b[0m: name 'finesse' is not defined"
     ]
    }
   ],
   "source": [
    "w= range(10)\n",
    "\n",
    "for i in range(1,finesse):\n",
    "    #timer = np.cumsum(times[i][w])/trialnumber\n",
    "    #timer = np.insert(timer[range(trialtime-1)], 0, 0)\n",
    "    #plt.plot(timer, results[i][w]/N/trialnumber)\n",
    "    plt.plot(results_finegrain[i][w]/N/trialnumber, '-')\n",
    "    '''\n",
    "    if results[i][trialtime-1]<0.7*N*trialnumber:\n",
    "        print(i)\n",
    "    '''\n",
    "#plt.plot(times[2], results[2], 'r+')\n",
    "#infected"
   ]
  },
  {
   "cell_type": "code",
   "execution_count": null,
   "metadata": {},
   "outputs": [],
   "source": [
    "np.sum(np.array([d for d in H.degree()]).T[1])"
   ]
  },
  {
   "cell_type": "code",
   "execution_count": null,
   "metadata": {},
   "outputs": [],
   "source": [
    "np.sum(np.array([d for d in G.degree()]).T[1])"
   ]
  },
  {
   "cell_type": "code",
   "execution_count": 113,
   "metadata": {},
   "outputs": [
    {
     "data": {
      "text/plain": [
       "[<matplotlib.lines.Line2D at 0x7f34402d9080>]"
      ]
     },
     "execution_count": 113,
     "metadata": {},
     "output_type": "execute_result"
    },
    {
     "data": {
      "image/png": "[encoded data removed]",
      "text/plain": [
       "<matplotlib.figure.Figure at 0x7f34402d9048>"
      ]
     },
     "metadata": {},
     "output_type": "display_data"
    }
   ],
   "source": [
    "flip = infectionsize.T\n",
    "finalsize = flip[len(flip)-1]\n",
    "rescaled = finalsize - np.average(finalsize[range(400,len(finalsize)-1)])\n",
    "rescaled_cum = np.cumsum(rescaled)\n",
    "int_curve = 1-rescaled_cum / rescaled_cum[len(rescaled_cum)-1]\n",
    "plt.semilogy(int_curve,'b-')\n",
    "plt.semilogy(rescaled, 'r-')\n",
    "\n"
   ]
  },
  {
   "cell_type": "code",
   "execution_count": 114,
   "metadata": {},
   "outputs": [
    {
     "data": {
      "text/plain": [
       "[<matplotlib.lines.Line2D at 0x7f34401df438>]"
      ]
     },
     "execution_count": 114,
     "metadata": {},
     "output_type": "execute_result"
    },
    {
     "data": {
      "image/png": "[encoded data removed]",
      "text/plain": [
       "<matplotlib.figure.Figure at 0x7f34400ec358>"
      ]
     },
     "metadata": {},
     "output_type": "display_data"
    }
   ],
   "source": [
    "plt.plot(finalsize)"
   ]
  },
  {
   "cell_type": "code",
   "execution_count": 118,
   "metadata": {},
   "outputs": [
    {
     "name": "stdout",
     "output_type": "stream",
     "text": [
      "-0.0155598050267\n"
     ]
    }
   ],
   "source": [
    "m, b = np.polyfit(np.arange(300), np.log(int_curve[range(300)]), 1)\n",
    "print(m)"
   ]
  },
  {
   "cell_type": "code",
   "execution_count": 119,
   "metadata": {},
   "outputs": [
    {
     "data": {
      "text/plain": [
       "[<matplotlib.lines.Line2D at 0x7f344086c390>]"
      ]
     },
     "execution_count": 119,
     "metadata": {},
     "output_type": "execute_result"
    },
    {
     "data": {
      "image/png": "[encoded data removed]",
      "text/plain": [
       "<matplotlib.figure.Figure at 0x7f344086cda0>"
      ]
     },
     "metadata": {},
     "output_type": "display_data"
    }
   ],
   "source": [
    "plt.semilogy(np.exp(b)*np.exp(m*np.arange(300)), 'k-')\n",
    "plt.semilogy(int_curve,'b--')"
   ]
  },
  {
   "cell_type": "code",
   "execution_count": 105,
   "metadata": {},
   "outputs": [],
   "source": [
    "np.save('power_1p9_N_100_trials_1000.npy', infectionsize)"
   ]
  },
  {
   "cell_type": "code",
   "execution_count": 95,
   "metadata": {},
   "outputs": [
    {
     "data": {
      "text/plain": [
       "[1]"
      ]
     },
     "execution_count": 95,
     "metadata": {},
     "output_type": "execute_result"
    }
   ],
   "source": [
    "list(range(1,2))"
   ]
  },
  {
   "cell_type": "code",
   "execution_count": 108,
   "metadata": {},
   "outputs": [],
   "source": [
    "N = 100\n",
    "D = N-1 #maximum degree\n",
    "lamb = 3.1\n",
    "\n",
    "\n",
    "S = 1\n",
    "while S % 2 != 0:\n",
    "    degree_seq = np.random.choice(np.arange(D), N, replace=True, p=powerlaw(D,lamb, 0.0))\n",
    "    S = np.sum(degree_seq)\n",
    "\n",
    "Gfull=nx.configuration_model(list(degree_seq))\n",
    "G=nx.Graph(Gfull)\n",
    "G.remove_edges_from(G.selfloop_edges())\n",
    "\n",
    "S = np.sum(degree_seq)\n",
    "def Go(trialnumber):\n",
    "    return go(trialnumber, int(S*1.5))\n",
    "\n",
    "pool= Pool()\n",
    "results = pool.map(Go, [250, 250, 250, 250])\n",
    "infectionsize = np.asarray(sum(results), dtype=float)/4\n",
    "np.save('power_3p1_N_100_trials_1000.npy', infectionsize)"
   ]
  },
  {
   "cell_type": "code",
   "execution_count": 109,
   "metadata": {},
   "outputs": [],
   "source": [
    "N = 100\n",
    "D = N-1 #maximum degree\n",
    "lamb = 2.9\n",
    "\n",
    "\n",
    "S = 1\n",
    "while S % 2 != 0:\n",
    "    degree_seq = np.random.choice(np.arange(D), N, replace=True, p=powerlaw(D,lamb, 0.0))\n",
    "    S = np.sum(degree_seq)\n",
    "\n",
    "Gfull=nx.configuration_model(list(degree_seq))\n",
    "G=nx.Graph(Gfull)\n",
    "G.remove_edges_from(G.selfloop_edges())\n",
    "\n",
    "S = np.sum(degree_seq)\n",
    "def Go(trialnumber):\n",
    "    return go(trialnumber, int(S*1.5))\n",
    "\n",
    "pool= Pool()\n",
    "results = pool.map(Go, [250, 250, 250, 250])\n",
    "infectionsize = np.asarray(sum(results), dtype=float)/4\n",
    "np.save('power_2p9_N_100_trials_1000.npy', infectionsize)"
   ]
  },
  {
   "cell_type": "code",
   "execution_count": 110,
   "metadata": {},
   "outputs": [],
   "source": [
    "N = 100\n",
    "D = N-1 #maximum degree\n",
    "lamb = 2.7\n",
    "\n",
    "\n",
    "S = 1\n",
    "while S % 2 != 0:\n",
    "    degree_seq = np.random.choice(np.arange(D), N, replace=True, p=powerlaw(D,lamb, 0.0))\n",
    "    S = np.sum(degree_seq)\n",
    "\n",
    "Gfull=nx.configuration_model(list(degree_seq))\n",
    "G=nx.Graph(Gfull)\n",
    "G.remove_edges_from(G.selfloop_edges())\n",
    "\n",
    "S = np.sum(degree_seq)\n",
    "def Go(trialnumber):\n",
    "    return go(trialnumber, int(S*1.5))\n",
    "\n",
    "pool= Pool()\n",
    "results = pool.map(Go, [250, 250, 250, 250])\n",
    "infectionsize = np.asarray(sum(results), dtype=float)/4\n",
    "np.save('power_2p7_N_100_trials_1000.npy', infectionsize)"
   ]
  },
  {
   "cell_type": "code",
   "execution_count": 111,
   "metadata": {},
   "outputs": [],
   "source": [
    "N = 100\n",
    "D = N-1 #maximum degree\n",
    "lamb = 2.3\n",
    "\n",
    "\n",
    "S = 1\n",
    "while S % 2 != 0:\n",
    "    degree_seq = np.random.choice(np.arange(D), N, replace=True, p=powerlaw(D,lamb, 0.0))\n",
    "    S = np.sum(degree_seq)\n",
    "\n",
    "Gfull=nx.configuration_model(list(degree_seq))\n",
    "G=nx.Graph(Gfull)\n",
    "G.remove_edges_from(G.selfloop_edges())\n",
    "\n",
    "S = np.sum(degree_seq)\n",
    "def Go(trialnumber):\n",
    "    return go(trialnumber, int(S*1.5))\n",
    "\n",
    "pool= Pool()\n",
    "results = pool.map(Go, [250, 250, 250, 250])\n",
    "infectionsize = np.asarray(sum(results), dtype=float)/4\n",
    "np.save('power_2p3_N_100_trials_1000.npy', infectionsize)"
   ]
  },
  {
   "cell_type": "code",
   "execution_count": 112,
   "metadata": {},
   "outputs": [],
   "source": [
    "N = 100\n",
    "D = N-1 #maximum degree\n",
    "lamb = 2.1\n",
    "\n",
    "\n",
    "S = 1\n",
    "while S % 2 != 0:\n",
    "    degree_seq = np.random.choice(np.arange(D), N, replace=True, p=powerlaw(D,lamb, 0.0))\n",
    "    S = np.sum(degree_seq)\n",
    "\n",
    "Gfull=nx.configuration_model(list(degree_seq))\n",
    "G=nx.Graph(Gfull)\n",
    "G.remove_edges_from(G.selfloop_edges())\n",
    "\n",
    "S = np.sum(degree_seq)\n",
    "def Go(trialnumber):\n",
    "    return go(trialnumber, int(S*1.5))\n",
    "\n",
    "pool= Pool()\n",
    "results = pool.map(Go, [250, 250, 250, 250])\n",
    "infectionsize = np.asarray(sum(results), dtype=float)/4\n",
    "np.save('power_2p1_N_100_trials_1000.npy', infectionsize)"
   ]
  },
  {
   "cell_type": "code",
   "execution_count": 120,
   "metadata": {},
   "outputs": [
    {
     "data": {
      "text/plain": [
       "dict"
      ]
     },
     "execution_count": 120,
     "metadata": {},
     "output_type": "execute_result"
    }
   ],
   "source": [
    " type(nx.betweenness_centrality(G))"
   ]
  },
  {
   "cell_type": "code",
   "execution_count": 4,
   "metadata": {},
   "outputs": [
    {
     "data": {
      "text/plain": [
       "NodeView((0, 1, 2, 3, 4))"
      ]
     },
     "execution_count": 4,
     "metadata": {},
     "output_type": "execute_result"
    }
   ],
   "source": [
    "G = nx.complete_graph(5)\n",
    "G.nodes()"
   ]
  },
  {
   "cell_type": "code",
   "execution_count": null,
   "metadata": {},
   "outputs": [],
   "source": []
  }
 ],
 "metadata": {
  "kernelspec": {
   "display_name": "Python 3",
   "language": "python",
   "name": "python3"
  },
  "language_info": {
   "codemirror_mode": {
    "name": "ipython",
    "version": 3
   },
   "file_extension": ".py",
   "mimetype": "text/x-python",
   "name": "python",
   "nbconvert_exporter": "python",
   "pygments_lexer": "ipython3",
   "version": "3.5.2"
  }
 },
 "nbformat": 4,
 "nbformat_minor": 2
}
