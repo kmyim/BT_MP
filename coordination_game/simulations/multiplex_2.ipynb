{
 "cells": [
  {
   "cell_type": "code",
   "execution_count": 1,
   "metadata": {},
   "outputs": [],
   "source": [
    "%matplotlib inline\n",
    "\n",
    "import networkx as nx\n",
    "import numpy as np\n",
    "import copy\n",
    "import matplotlib\n",
    "import matplotlib.pyplot as plt\n",
    "\n",
    "from multiprocessing import Pool"
   ]
  },
  {
   "cell_type": "code",
   "execution_count": 2,
   "metadata": {},
   "outputs": [],
   "source": [
    "def simulate(G, H, trialtime, thresh, p_transmit, infected):    \n",
    "    results = np.zeros([trialtime])\n",
    "    #redun_connections= np.ones([trialtime])\n",
    "    #timetaken = np.zeros([trialtime])\n",
    "    \n",
    "    for t in range(trialtime):\n",
    "        aware = set([])\n",
    "        results[t] = len(infected)\n",
    "        for node in infected:\n",
    "            if np.random.uniform(low=0.0, high=1.0, size=None) < p_transmit:\n",
    "                aware.update({n for n in H.neighbors(node)})\n",
    "        temp = copy.deepcopy(aware)\n",
    "        temp_infect = copy.deepcopy(infected)\n",
    "\n",
    "        for node in temp:\n",
    "            neighH = {n for n in H.neighbors(node)}\n",
    "            neighG = {n for n in G.neighbors(node)}\n",
    "            #timetaken[t] = max(len(neighH), timetaken[t])\n",
    "            #redun_connections[t] = len(neighH - neighH.intersection(neighG))\n",
    "            neighset = neighG\n",
    "\n",
    "            if len(temp_infect.intersection(neighset)) >= thresh*len(neighset) :\n",
    "                infected.update({node})\n",
    "            else: \n",
    "                infected = infected-{node}\n",
    "    #time = np.cumsum(timetaken)\n",
    "    #time = np.insert(time[range(trialtime-1)], 0, 0)\n",
    "    \n",
    "    #return results, timetaken, redun_connections\n",
    "    return results\n",
    "    "
   ]
  },
  {
   "cell_type": "code",
   "execution_count": 3,
   "metadata": {},
   "outputs": [],
   "source": [
    "def comm_network(G, n_swap):\n",
    "    H = G.copy()\n",
    "    H = nx.double_edge_swap(H, n_swap, max_tries=n_swap*len(G));\n",
    "    return H"
   ]
  },
  {
   "cell_type": "code",
   "execution_count": null,
   "metadata": {},
   "outputs": [],
   "source": []
  },
  {
   "cell_type": "code",
   "execution_count": 4,
   "metadata": {},
   "outputs": [],
   "source": [
    "def powerlaw(D, lamb, p0):\n",
    "    x = np.arange(1,D)\n",
    "    x = np.asarray(x, dtype=float)\n",
    "    x = x**(-lamb)\n",
    "    x = x/x.sum(axis=0)*(1-p0)\n",
    "    x = np.insert(x, 0, p0, axis=0)\n",
    "    return x"
   ]
  },
  {
   "cell_type": "code",
   "execution_count": 13,
   "metadata": {},
   "outputs": [],
   "source": [
    "N = 100\n",
    "D = N-1 #maximum degree\n",
    "lamb = 2.5\n",
    "\n",
    "\n",
    "degree_seq = np.random.choice(np.arange(D), N, replace=True, p=powerlaw(D,lamb, 0.0))\n",
    "Gfull=nx.configuration_model(list(degree_seq))\n",
    "G=nx.Graph(Gfull)\n",
    "G.remove_edges_from(G.selfloop_edges())"
   ]
  },
  {
   "cell_type": "code",
   "execution_count": 34,
   "metadata": {},
   "outputs": [],
   "source": [
    "S = np.sum(degree_seq)"
   ]
  },
  {
   "cell_type": "code",
   "execution_count": 35,
   "metadata": {},
   "outputs": [],
   "source": [
    "def go(trialnumber, max_nswap):\n",
    "    trialtime = 10\n",
    "    initial_infection = 0.3\n",
    "    thresh = 0.3\n",
    "    p_transmit = 1\n",
    "\n",
    "    #trialnumber = 1000\n",
    "\n",
    "#    times = np.zeros([finesse, trialtime])\n",
    "    finesse = max_nswap\n",
    "    results_finegrain = np.zeros([finesse,trialtime])\n",
    "    for T in range(trialnumber):\n",
    "        infected = set(np.random.choice([n for n in G.nodes()], int(len(G)*initial_infection)))\n",
    "\n",
    "        for i in range(finesse):\n",
    "\n",
    "            n_swap = int(float((i)/(finesse))*max_nswap)\n",
    "            #n_swap = i\n",
    "            H = comm_network(G, n_swap)\n",
    "            #H = nx.connected_watts_strogatz_graph(N, , 1, tries=100, seed=None)\n",
    "            #H = nx.erdos_renyi_graph(N, 1.74/N)\n",
    "            #H = G\n",
    "            R = simulate(G, H, trialtime, thresh, p_transmit, copy.deepcopy(infected))\n",
    "            results_finegrain[i] = R + results_finegrain[i]\n",
    "            #results[i]= R[0] + results[i]\n",
    "            #times[i] = R[1] + times[i]\n",
    "\n",
    "            #plt.plot(out[1][window], out[0][window])\n",
    "    return results_finegrain/trialnumber/len(G)\n"
   ]
  },
  {
   "cell_type": "code",
   "execution_count": 36,
   "metadata": {},
   "outputs": [],
   "source": [
    "def Go(trialnumber):\n",
    "    return go(trialnumber, int(S*1.5))"
   ]
  },
  {
   "cell_type": "code",
   "execution_count": 37,
   "metadata": {},
   "outputs": [],
   "source": [
    "pool= Pool()\n",
    "results = pool.map(Go, [250, 250, 250, 250])\n",
    "infectionsize = np.asarray(sum(results), dtype=float)/4"
   ]
  },
  {
   "cell_type": "code",
   "execution_count": null,
   "metadata": {},
   "outputs": [],
   "source": [
    "w= range(10)\n",
    "\n",
    "for i in range(1,finesse):\n",
    "    #timer = np.cumsum(times[i][w])/trialnumber\n",
    "    #timer = np.insert(timer[range(trialtime-1)], 0, 0)\n",
    "    #plt.plot(timer, results[i][w]/N/trialnumber)\n",
    "    plt.plot(results_finegrain[i][w]/N/trialnumber, '-')\n",
    "    '''\n",
    "    if results[i][trialtime-1]<0.7*N*trialnumber:\n",
    "        print(i)\n",
    "    '''\n",
    "#plt.plot(times[2], results[2], 'r+')\n",
    "#infected"
   ]
  },
  {
   "cell_type": "code",
   "execution_count": null,
   "metadata": {},
   "outputs": [],
   "source": [
    "np.sum(np.array([d for d in H.degree()]).T[1])"
   ]
  },
  {
   "cell_type": "code",
   "execution_count": null,
   "metadata": {},
   "outputs": [],
   "source": [
    "np.sum(np.array([d for d in G.degree()]).T[1])"
   ]
  },
  {
   "cell_type": "code",
   "execution_count": 63,
   "metadata": {},
   "outputs": [
    {
     "data": {
      "text/plain": [
       "[<matplotlib.lines.Line2D at 0x7f34543a61d0>]"
      ]
     },
     "execution_count": 63,
     "metadata": {},
     "output_type": "execute_result"
    },
    {
     "data": {
      "image/png": "[encoded data removed]",
      "text/plain": [
       "<matplotlib.figure.Figure at 0x7f34543e5978>"
      ]
     },
     "metadata": {},
     "output_type": "display_data"
    }
   ],
   "source": [
    "flip = infectionsize.T\n",
    "finalsize = flip[len(flip)-1]\n",
    "rescaled = finalsize - finalsize[len(finalsize)-1]\n",
    "rescaled_cum = np.cumsum(rescaled)\n",
    "int_curve = 1-rescaled_cum / rescaled_cum[len(rescaled_cum)-1]\n",
    "plt.semilogy(int_curve,'b-')\n",
    "plt.semilogy(rescaled, 'r-')\n",
    "\n"
   ]
  },
  {
   "cell_type": "code",
   "execution_count": 68,
   "metadata": {},
   "outputs": [
    {
     "data": {
      "text/plain": [
       "[<matplotlib.lines.Line2D at 0x7f3454643b38>]"
      ]
     },
     "execution_count": 68,
     "metadata": {},
     "output_type": "execute_result"
    },
    {
     "data": {
      "image/png": "[encoded data removed]",
      "text/plain": [
       "<matplotlib.figure.Figure at 0x7f34541f8898>"
      ]
     },
     "metadata": {},
     "output_type": "display_data"
    }
   ],
   "source": [
    "plt.plot(finalsize)"
   ]
  },
  {
   "cell_type": "code",
   "execution_count": 65,
   "metadata": {},
   "outputs": [],
   "source": [
    "m, b = np.polyfit(np.arange(150), int_curve[range(150)],h 1)"
   ]
  },
  {
   "cell_type": "code",
   "execution_count": 66,
   "metadata": {},
   "outputs": [
    {
     "data": {
      "text/plain": [
       "-0.0054944574651634272"
      ]
     },
     "execution_count": 66,
     "metadata": {},
     "output_type": "execute_result"
    }
   ],
   "source": [
    "m"
   ]
  },
  {
   "cell_type": "code",
   "execution_count": null,
   "metadata": {},
   "outputs": [],
   "source": []
  }
 ],
 "metadata": {
  "kernelspec": {
   "display_name": "Python 3",
   "language": "python",
   "name": "python3"
  },
  "language_info": {
   "codemirror_mode": {
    "name": "ipython",
    "version": 3
   },
   "file_extension": ".py",
   "mimetype": "text/x-python",
   "name": "python",
   "nbconvert_exporter": "python",
   "pygments_lexer": "ipython3",
   "version": "3.5.2"
  }
 },
 "nbformat": 4,
 "nbformat_minor": 2
}
